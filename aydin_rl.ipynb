{
 "cells": [
  {
   "cell_type": "code",
   "execution_count": 1,
   "id": "0d17f95b",
   "metadata": {},
   "outputs": [],
   "source": [
    "import numpy as np \n",
    "import pandas as pd\n",
    "import hiive.mdptoolbox \n",
    "import hiive.mdptoolbox.mdp\n",
    "import hiive.mdptoolbox.example\n",
    "import mdptoolbox, mdptoolbox.example\n",
    "import gym\n",
    "import matplotlib.pyplot as plt\n",
    "import time\n",
    "from hiive.visualization.mdpviz.utils import display_mdp\n",
    "from gym.envs.toy_text import frozen_lake as FL\n",
    "from matplotlib import pyplot as plt\n",
    "from matplotlib import colors\n",
    "from hiive.mdptoolbox import mdp \n",
    "import seaborn as sns\n",
    "import time"
   ]
  },
  {
   "cell_type": "code",
   "execution_count": 19,
   "id": "75eb29c6-2050-4dc3-a96e-c8c31021321c",
   "metadata": {},
   "outputs": [],
   "source": [
    "def draw_grid(state_map, save_loc):\n",
    "    cmap = colors.ListedColormap(['Blue', 'White','Black', 'Green'])\n",
    "    \n",
    "    color_dict = {'S':0, 'F':1, 'H':2, 'G':3}\n",
    "    data = np.reshape([color_dict[i] for v in state_map for i in v], (nx, ny))\n",
    "    \n",
    "    plt.figure(figsize=(6,6))\n",
    "    plt.pcolor(data[::-1],cmap=cmap,edgecolors='k', linewidths=3)\n",
    "    plt.axis('off')\n",
    "    if save_loc:\n",
    "        plt.savefig(save_loc)\n",
    "    else:\n",
    "        plt.show()"
   ]
  },
  {
   "cell_type": "code",
   "execution_count": 3,
   "id": "bc7e1cee",
   "metadata": {},
   "outputs": [],
   "source": [
    "def plot_simple_data(x_var, y_var, x_label, y_label, title, figure_size=(4,3)):\n",
    "    plt.rcParams[\"figure.figsize\"] = figure_size\n",
    "    plt.xlabel(x_label)\n",
    "    plt.ylabel(y_label)\n",
    "    plt.title(title)\n",
    "    plt.plot(x_var, y_var, 'o-')\n",
    "    plt.show()\n",
    "\n",
    "def plot_data_legend(x_vars, x_label, all_y_vars, y_var_labels, y_label, title, y_bounds=None):\n",
    "    colors = ['red','orange','black','green','blue','violet']\n",
    "    plt.rcParams[\"figure.figsize\"] = (4,3)\n",
    "\n",
    "    i = 0\n",
    "    for y_var in all_y_vars:\n",
    "#         if i == 2: # don't plot when i = 1 for cv\n",
    "#             x_vars = x_vars[1:]\n",
    "        plt.plot(x_vars, y_var, 'o-', color=colors[i % 6], label=y_var_labels[i])\n",
    "        i += 1\n",
    "    plt.xlabel(x_label)\n",
    "    plt.ylabel(y_label)\n",
    "    plt.title(title)\n",
    "    if y_bounds != None:\n",
    "        plt.ylim(y_bounds)\n",
    "    leg = plt.legend()\n",
    "    plt.show()"
   ]
  },
  {
   "cell_type": "code",
   "execution_count": 4,
   "id": "a51773d2-ff1a-4f66-a26c-c6976d14988d",
   "metadata": {},
   "outputs": [],
   "source": [
    "def get_lake_T_R(env):\n",
    "\n",
    "    T = np.zeros((env.nA, env.nS, env.nS))\n",
    "    R = np.zeros((env.nA, env.nS, env.nS))\n",
    "\n",
    "    for state_origin in range(env.nS):\n",
    "        for action_type in range(env.nA):\n",
    "            trans_list = env.P[state_origin][action_type]\n",
    "            for transition_P, state_dest, reward, terminal in trans_list:\n",
    "                T[action_type,state_origin,state_dest] += transition_P\n",
    "                if terminal and reward == 0.0:\n",
    "                    reward = -1\n",
    "                R[action_type,state_origin,state_dest] = reward\n",
    "\n",
    "            T[action_type,state_origin,:]/=np.sum(T[action_type,state_origin,:])\n",
    "            \n",
    "    return T, R"
   ]
  },
  {
   "cell_type": "code",
   "execution_count": 5,
   "id": "782af211-f0dc-49d2-a555-545c7d021878",
   "metadata": {},
   "outputs": [],
   "source": [
    "def make_time_array(run_stats, variables):\n",
    "    times = []\n",
    "    output_dict = {v:[] for v in variables}\n",
    "    output_dict[\"times\"] = times\n",
    "    for result in run_stats:\n",
    "        times.append(result[\"Time\"])\n",
    "        for v in result:\n",
    "            if v in variables:\n",
    "                output_dict[v].append(result[v])\n",
    "    return output_dict"
   ]
  },
  {
   "cell_type": "markdown",
   "id": "99952310-e782-42be-8729-d0c3120c87d5",
   "metadata": {},
   "source": [
    "### Run Experiments"
   ]
  },
  {
   "cell_type": "code",
   "execution_count": 6,
   "id": "19a0ea25",
   "metadata": {},
   "outputs": [],
   "source": [
    "def compose_discounts(significant_digits):\n",
    "    prev_discount = 0\n",
    "    discounts = []\n",
    "    for i in range(1,significant_digits + 1):\n",
    "        discounts.append(round(prev_discount + 9*(10**-i),i))\n",
    "        prev_discount = discounts[-1]\n",
    "    return discounts\n",
    "\n",
    "def forest_experiments(solver, states, discounts, epsilons, probability=0.1, max_iter=10):\n",
    "    experiments = [] #num states, probability, discount, time, iterations, policy\n",
    "    for s in states:\n",
    "        for e in epsilons:\n",
    "            for d in discounts:\n",
    "                print('Running Experiment: Number of States:{0}, Epsilon:{1}, Discount:{2}'.format(s, e,d))\n",
    "                entry = {}\n",
    "                P, R = hiive.mdptoolbox.example.forest(S=s, p=probability)\n",
    "                #start_time = time.time()\n",
    "                args = {\"transitions\":P, \"reward\":R, \"gamma\":d, \"epsilon\":e, \"max_iter\":max_iter, \"skip_check\":True}\n",
    "                mdp = solver(args)\n",
    "                mdp.run()\n",
    "                #end_time = time.time()\n",
    "                entry[\"time\"] = mdp.time\n",
    "                entry[\"iterations\"] = mdp.iter\n",
    "                entry[\"policy\"] = mdp.policy\n",
    "                entry[\"num_states\"] = s\n",
    "                entry[\"probability\"] = probability\n",
    "                entry[\"discount\"] = d\n",
    "                entry[\"epsilon\"] = e\n",
    "                entry[\"run_stats\"] = mdp.run_stats\n",
    "                experiments.append(entry)\n",
    "    return experiments"
   ]
  },
  {
   "cell_type": "code",
   "execution_count": 7,
   "id": "d19b3991-3d8a-4f38-99cb-c0f0738eaffe",
   "metadata": {},
   "outputs": [],
   "source": [
    "def lake_experiments(solver, states, p_frozen, probabilistic, discounts, epsilons, probability=0.1, max_iter=1000):\n",
    "    experiments = [] #num states, probability, discount, time, iterations, policy\n",
    "    for s in states:\n",
    "        for p_freeze in p_frozen:\n",
    "            for e in epsilons:\n",
    "                for d in discounts:\n",
    "                    entry = {}\n",
    "                    nx = int(np.sqrt(s))\n",
    "                    ny = nx\n",
    "                    print('Running Experiment: NX:{0}, Epsilon:{1}, Discount:{2}'.format(nx,e,d))\n",
    "                    ## Generate a Random Lake\n",
    "                    random_map = FL.generate_random_map(size=nx, p=p_freeze)\n",
    "                    env = FL.FrozenLakeEnv(desc=random_map, is_slippery = probabilistic)\n",
    "                    T, R = get_lake_T_R(env)\n",
    "\n",
    "                    args = {\"transitions\":T, \"reward\":R, \"gamma\":d, \"epsilon\":e, \"max_iter\":max_iter, \"skip_check\":True}\n",
    "                    mdp = solver(args)\n",
    "                    #mdp.run()\n",
    "\n",
    "                    entry[\"nx\"] = nx\n",
    "                    entry[\"time\"] = mdp.time\n",
    "                    entry[\"iterations\"] = mdp.iter\n",
    "                    entry[\"policy\"] = mdp.policy\n",
    "                    entry[\"num_states\"] = s\n",
    "                    entry[\"probability\"] = probability\n",
    "                    entry[\"discount\"] = d\n",
    "                    entry[\"epsilon\"] = e\n",
    "                    entry[\"p_freeze\"] = p_freeze\n",
    "                    entry[\"run_stats\"] = mdp.run_stats\n",
    "                    experiments.append(entry)\n",
    "    return experiments"
   ]
  },
  {
   "cell_type": "code",
   "execution_count": 8,
   "id": "2c2fbc2f",
   "metadata": {},
   "outputs": [],
   "source": [
    "def fm_q_experiments(states, gammas, alphas, alpha_decays, alpha_mins,\n",
    "                     epsilons, epsilon_mins,epsilon_decays, \n",
    "                     probability=0.1,max_iter=100000):\n",
    "    experiments = []\n",
    "    for s in states:\n",
    "        for gamma in gammas:\n",
    "            for alpha in alphas:\n",
    "                for alpha_decay in alpha_decays:\n",
    "                    for alpha_min in alpha_mins:\n",
    "                        for epsilon in epsilons:\n",
    "                            for epsilon_min in epsilon_mins:\n",
    "                                for epsilon_decay in epsilon_decays:\n",
    "                                    entry = {}\n",
    "                                    print('Running Experiment: S:{0}'.format(s))\n",
    "                                    ## Generate a Random Lake\n",
    "                                    P, R = hiive.mdptoolbox.example.forest(S=s, p=probability)\n",
    "                                    q_solve = mdp.QLearning(P, R, gamma = gamma, alpha=alpha, alpha_decay=alpha_decay, alpha_min=alpha_min,\n",
    "                                                            epsilon=epsilon, epsilon_min=epsilon_min, epsilon_decay=epsilon_decay,\n",
    "                                                            n_iter=max_iter,  skip_check=True)\n",
    "                                    q_solve.run()\n",
    "\n",
    "                                    entry[\"time\"] = q_solve.time\n",
    "                                    entry[\"policy\"] = q_solve.policy\n",
    "                                    entry[\"num_states\"] = s\n",
    "                                    entry[\"probability\"] = probability\n",
    "                                    entry[\"epsilon\"] = epsilon\n",
    "                                    entry[\"epsilon Min\"] = epsilon_min\n",
    "                                    entry[\"epsilon Decay\"] = epsilon_decay\n",
    "                                    entry[\"Gamma\"] = gamma\n",
    "                                    entry[\"Alpha\"] = alpha\n",
    "                                    entry[\"Alpha Decay\"] = alpha_decay\n",
    "                                    entry[\"Alpha Min\"] = alpha_min\n",
    "                                    entry[\"run_stats\"] = q_solve.run_stats\n",
    "                                    experiments.append(entry)\n",
    "    return experiments"
   ]
  },
  {
   "cell_type": "code",
   "execution_count": 9,
   "id": "31f3cc2b-d014-4151-9c17-346bb32a0097",
   "metadata": {},
   "outputs": [],
   "source": [
    "def lake_q_experiments(states, p_frozen, probabilistic, gammas, alphas,\n",
    "                       alpha_decays, alpha_mins, epsilons, epsilon_mins,\n",
    "                       epsilon_decays, probability=0.1,max_iter=100000):\n",
    "    experiments = []\n",
    "    for s in states:\n",
    "        for p_freeze in p_frozen:\n",
    "            for gamma in gammas:\n",
    "                for alpha in alphas:\n",
    "                    for alpha_decay in alpha_decays:\n",
    "                        for alpha_min in alpha_mins:\n",
    "                            for epsilon in epsilons:\n",
    "                                for epsilon_min in epsilon_mins:\n",
    "                                    for epsilon_decay in epsilon_decays:\n",
    "                                        entry = {}\n",
    "                                        nx = int(np.sqrt(s))\n",
    "                                        ny = nx\n",
    "                                        print('Running Experiment: NX:{0}'.format(nx))\n",
    "                                        ## Generate a Random Lake\n",
    "                                        random_map = FL.generate_random_map(size=nx, p=p_freeze)\n",
    "                                        env = FL.FrozenLakeEnv(desc=random_map, is_slippery = probabilistic)\n",
    "                                        T, R = get_lake_T_R(env)\n",
    "                                        q_solve = mdp.QLearning(T, R, gamma = gamma, alpha=alpha, alpha_decay=alpha_decay, alpha_min=alpha_min,\n",
    "                                                                epsilon=epsilon, epsilon_min=epsilon_min, epsilon_decay=epsilon_decay,\n",
    "                                                                n_iter=max_iter,  skip_check=True)\n",
    "                                        q_solve.run()\n",
    "                                        \n",
    "                                        entry[\"nx\"] = nx\n",
    "                                        entry[\"time\"] = q_solve.time\n",
    "                                        entry[\"policy\"] = q_solve.policy\n",
    "                                        entry[\"num_states\"] = s\n",
    "                                        entry[\"probability\"] = probability\n",
    "                                        entry[\"P Frozen\"] = p_freeze\n",
    "                                        entry[\"epsilon\"] = epsilon\n",
    "                                        entry[\"epsilon Min\"] = epsilon_min\n",
    "                                        entry[\"epsilon Decay\"] = epsilon_decay\n",
    "                                        entry[\"Gamma\"] = gamma\n",
    "                                        entry[\"Alpha\"] = alpha\n",
    "                                        entry[\"Alpha Decay\"] = alpha_decay\n",
    "                                        entry[\"Alpha Min\"] = alpha_min\n",
    "                                        entry[\"run_stats\"] = q_solve.run_stats\n",
    "                                        experiments.append(entry)\n",
    "    return experiments"
   ]
  },
  {
   "cell_type": "code",
   "execution_count": 10,
   "id": "74811077",
   "metadata": {},
   "outputs": [],
   "source": [
    "import os\n",
    "\n",
    "filename = 'fm_policy_iteration_results.npy'\n",
    "if os.path.isfile(filename):\n",
    "    fm_policy_iteration_results = np.load(filename, allow_pickle=True)\n",
    "else:\n",
    "    states = [10**s for s in range(1,5)]\n",
    "    discounts = compose_discounts(3)\n",
    "    epsilons = [0.01, 0.005, 0.001]\n",
    "\n",
    "    fm_policy_iteration = lambda dict_args: hiive.mdptoolbox.mdp.PolicyIterationModified(**dict_args)\n",
    "    fm_policy_iteration_results = forest_experiments(fm_policy_iteration, states, discounts, epsilons)"
   ]
  },
  {
   "cell_type": "code",
   "execution_count": 11,
   "id": "e904dc84",
   "metadata": {},
   "outputs": [],
   "source": [
    "filename = 'fm_value_iteration_results.npy'\n",
    "if os.path.isfile(filename):\n",
    "    fm_value_iteration_results = np.load(filename, allow_pickle=True)\n",
    "else:\n",
    "    states = [10**s for s in range(1,5)]\n",
    "    discounts = compose_discounts(5)\n",
    "    epsilons = [0.01, 0.005, 0.001]\n",
    "\n",
    "    fm_value_iteration = lambda dict_args: hiive.mdptoolbox.mdp.ValueIteration(**dict_args)\n",
    "    fm_value_iteration_results = forest_experiments(fm_value_iteration, states, discounts, epsilons)"
   ]
  },
  {
   "cell_type": "code",
   "execution_count": 12,
   "id": "07f52c52",
   "metadata": {},
   "outputs": [],
   "source": [
    "filename = 'fm_q_results.npy'\n",
    "if os.path.isfile(filename):\n",
    "    fm_q_results = np.load(filename, allow_pickle=True)\n",
    "else:\n",
    "    states = [10**s for s in [1,2,3]]\n",
    "    gammas = [0.75, 0.9]\n",
    "    alphas = [0.75, 0.99]\n",
    "    alpha_decays = [0.9,0.99]\n",
    "    alpha_mins = [0.1]\n",
    "    epsilons = [0.01, 0.001]\n",
    "    epsilon_mins = [0.1]\n",
    "    epsilon_decays= [0.9,0.99]\n",
    "\n",
    "    fm_q_results = fm_q_experiments(states, gammas, alphas, alpha_decays, alpha_mins,\n",
    "                                        epsilons, epsilon_mins,epsilon_decays,\n",
    "                                        probability=0.1,max_iter=100000)\n",
    "    np.save('fm_q_results.npy', fm_q_results, allow_pickle = True)"
   ]
  },
  {
   "cell_type": "code",
   "execution_count": 13,
   "id": "5b3b5c75-0c2e-436e-939a-46190f948d45",
   "metadata": {},
   "outputs": [],
   "source": [
    "filename = 'lake_policy_iteration_results.npy'\n",
    "if os.path.isfile(filename):\n",
    "    lake_policy_iteration_results = np.load(filename, allow_pickle=True)\n",
    "else:\n",
    "    states = [10**s for s in range(1,5)]\n",
    "    p_frozen = [0.7, 0.8, 0.9]\n",
    "    probabilistic = [True]\n",
    "    discounts = compose_discounts(3)\n",
    "    epsilons = [0.01, 0.005, 0.001]\n",
    "\n",
    "    lake_policy_iteration = lambda dict_args: hiive.mdptoolbox.mdp.PolicyIterationModified(**dict_args)\n",
    "    lake_policy_iteration_results = lake_experiments(lake_policy_iteration, states, p_frozen, probabilistic, discounts, epsilons)"
   ]
  },
  {
   "cell_type": "code",
   "execution_count": 14,
   "id": "9a041527-63cc-48f5-93ef-2fc0637a4e7e",
   "metadata": {},
   "outputs": [],
   "source": [
    "filename = 'lake_value_iteration_results.npy'\n",
    "if os.path.isfile(filename):\n",
    "    lake_value_iteration_results = np.load(filename, allow_pickle=True)\n",
    "else:\n",
    "    states = [10**s for s in range(1,5)]\n",
    "    discounts = compose_discounts(5)\n",
    "    epsilons = [0.01, 0.005, 0.001]\n",
    "\n",
    "    lake_value_iteration = lambda dict_args: hiive.mdptoolbox.mdp.ValueIteration(**dict_args)\n",
    "    lake_value_iteration_results = lake_experiments(lake_value_iteration, states, p_frozen, probabilistic, discounts, epsilons)"
   ]
  },
  {
   "cell_type": "code",
   "execution_count": 15,
   "id": "4df831e0-a825-4299-a07a-a8e03d86894e",
   "metadata": {},
   "outputs": [],
   "source": [
    "filename = 'lake_q_results.npy'\n",
    "if os.path.isfile(filename):\n",
    "    lake_q_results = np.load(filename, allow_pickle=True)\n",
    "else:\n",
    "    states = [10**s for s in [1,2,3]]\n",
    "    gammas = [0.75, 0.9]\n",
    "    alphas = [0.75, 0.99]\n",
    "    alpha_decays = [0.9,0.99]\n",
    "    alpha_mins = [0.1]\n",
    "    epsilons = [0.01, 0.001]\n",
    "    epsilon_mins = [0.1]\n",
    "    epsilon_decays= [0.9,0.99]\n",
    "\n",
    "    lake_q_results = lake_q_experiments(states, p_frozen, probabilistic, gammas, alphas, alpha_decays, alpha_mins,\n",
    "                                        epsilons, epsilon_mins,epsilon_decays,probability=0.1,max_iter=100000)"
   ]
  },
  {
   "cell_type": "code",
   "execution_count": 16,
   "id": "b89b79e0",
   "metadata": {},
   "outputs": [],
   "source": [
    "def get_q_learning_df(results):\n",
    "    maxV = []\n",
    "    meanV = []\n",
    "    times = []\n",
    "    nStates = []\n",
    "    eps = []\n",
    "    eps_min = []\n",
    "    eps_decay = []\n",
    "    alphas = []\n",
    "    alpha_decays = []\n",
    "    alpha_mins = []\n",
    "    iters = []\n",
    "    v_mean_profile = []\n",
    "    v_max_profile = []\n",
    "    for row in results:\n",
    "        maxV.append(row['run_stats'][-1]['Max V'])\n",
    "        meanV.append(row['run_stats'][-1]['Mean V'])\n",
    "        iters.append(row['run_stats'][-1]['Iteration'])\n",
    "        times.append(row['time'])\n",
    "        nStates.append(row['num_states'])\n",
    "        eps.append(row['epsilon'])\n",
    "        eps_min.append(row['epsilon Min'])\n",
    "        eps_decay.append(row['epsilon Decay'])\n",
    "        alphas.append(row['Alpha'])\n",
    "        alpha_decays.append(row['Alpha Decay'])\n",
    "        alpha_mins.append(row['Alpha Min'])\n",
    "        v_mean_profile.append([r['Mean V'] for r in row['run_stats']])\n",
    "        v_max_profile.append([r['Max V'] for r in row['run_stats']])\n",
    "\n",
    "    df = pd.DataFrame()\n",
    "    df['Max. V'] = maxV\n",
    "    df['Mean V'] = meanV\n",
    "    df['Total Iterations'] = iters\n",
    "    df['Run Time'] = times\n",
    "    df['Number of States'] = nStates\n",
    "    df['Epsilon'] = eps\n",
    "    df['Min. Epsilon'] = eps_min\n",
    "    df['Epsilon Decay'] = eps_decay\n",
    "    df['Alpha'] = alphas\n",
    "    df['Alpha Decay'] = alpha_decays\n",
    "    df['Min. Alpha'] = alpha_mins\n",
    "    df['Mean V (Iters)'] = v_mean_profile\n",
    "    df['Max. V (Iters)'] = v_max_profile\n",
    "    df['Method'] = 'Q Learning'\n",
    "\n",
    "    return df"
   ]
  },
  {
   "cell_type": "code",
   "execution_count": null,
   "id": "6fcd32c5",
   "metadata": {},
   "outputs": [],
   "source": [
    "def get_val_iter_df(results):\n",
    "    maxV = []\n",
    "    meanV = []\n",
    "    times = []\n",
    "    nStates = []\n",
    "    eps = []\n",
    "    alphas = []\n",
    "    iters = []\n",
    "    v_mean_profile = []\n",
    "    v_max_profile = []\n",
    "    \n",
    "    for row in results:\n",
    "        maxV.append(row['run_stats'][-1]['Max V'])\n",
    "        meanV.append(row['run_stats'][-1]['Mean V'])\n",
    "        iters.append(row['run_stats'][-1]['Iteration'])\n",
    "        times.append(row['time'])\n",
    "        nStates.append(row['num_states'])\n",
    "        eps.append(row['epsilon'])\n",
    "        discounts.append(row['discount'])\n",
    "\n",
    "\n",
    "    df = pd.DataFrame()\n",
    "    df['Max. V'] = maxV\n",
    "    df['Mean V'] = meanV\n",
    "    df['Total Iterations'] = iters\n",
    "    df['Run Time'] = times\n",
    "    df['Number of States'] = nStates\n",
    "    df['Epsilon'] = eps\n",
    "    df['Method'] = 'Value Iteration'\n",
    "\n",
    "    return df"
   ]
  },
  {
   "cell_type": "code",
   "execution_count": 360,
   "id": "58daaf6e",
   "metadata": {},
   "outputs": [
    {
     "data": {
      "text/plain": [
       "{'nx': 3,\n",
       " 'time': None,\n",
       " 'iterations': 0,\n",
       " 'policy': None,\n",
       " 'num_states': 10,\n",
       " 'probability': 0.1,\n",
       " 'discount': 0.9,\n",
       " 'epsilon': 0.01,\n",
       " 'p_freeze': 0.7,\n",
       " 'run_stats': None}"
      ]
     },
     "execution_count": 360,
     "metadata": {},
     "output_type": "execute_result"
    }
   ],
   "source": [
    "lake_value_iteration_results[0]"
   ]
  },
  {
   "cell_type": "code",
   "execution_count": 355,
   "id": "fc67dad8",
   "metadata": {},
   "outputs": [
    {
     "data": {
      "image/png": "[encoded data removed]",
      "text/plain": [
       "<Figure size 432x288 with 1 Axes>"
      ]
     },
     "metadata": {
      "needs_background": "light"
     },
     "output_type": "display_data"
    }
   ],
   "source": [
    "#lake_q_size_df = get_q_learning_df(lake_q_results)\n",
    "lake_q_size_df.head()\n",
    "sns.lineplot(data = lake_q_size_df, x ='Number of States', y = 'Run Time')\n",
    "plt.savefig('lake_sens_s_vs_time.png')"
   ]
  },
  {
   "cell_type": "markdown",
   "id": "6362bc76-ca06-44a6-ae83-798eee2769b2",
   "metadata": {},
   "source": [
    "## Main Scenarios - Frozen Lake"
   ]
  },
  {
   "cell_type": "code",
   "execution_count": 29,
   "id": "8ade4349",
   "metadata": {},
   "outputs": [
    {
     "data": {
      "image/png": "[encoded data removed]",
      "text/plain": [
       "<Figure size 432x432 with 1 Axes>"
      ]
     },
     "metadata": {
      "needs_background": "light"
     },
     "output_type": "display_data"
    }
   ],
   "source": [
    "nx = 20\n",
    "ny = nx\n",
    "p_frozen = 0.9\n",
    "\n",
    "probabilistic = True\n",
    "\n",
    "actions = {0:'Left', 1:'Down',2:'Right',3:'Up'}\n",
    "\n",
    "random_map = FL.generate_random_map(size=nx, p=p_frozen)\n",
    "np.save('random_map_90.npy', random_map, allow_pickle=True)\n",
    "\n",
    "env = FL.FrozenLakeEnv(desc=random_map, is_slippery = probabilistic)\n",
    "draw_grid(random_map, 'frozen_lake_case')"
   ]
  },
  {
   "cell_type": "code",
   "execution_count": 30,
   "id": "953f9cbe",
   "metadata": {},
   "outputs": [],
   "source": [
    "T = np.zeros((env.nA, env.nS, env.nS))\n",
    "R = np.zeros((env.nA, env.nS, env.nS))\n",
    "\n",
    "for state_origin in range(env.nS):\n",
    "    for action_type in range(env.nA):\n",
    "        trans_list = env.P[state_origin][action_type]\n",
    "        for transition_P, state_dest, reward, terminal in trans_list:\n",
    "            T[action_type,state_origin,state_dest] += transition_P\n",
    "            if terminal and reward == 0.0:\n",
    "                reward = -1\n",
    "            R[action_type,state_origin,state_dest] = reward\n",
    "            \n",
    "        T[action_type,state_origin,:]/=np.sum(T[action_type,state_origin,:])"
   ]
  },
  {
   "cell_type": "code",
   "execution_count": 90,
   "id": "e2d16a6d",
   "metadata": {},
   "outputs": [
    {
     "name": "stdout",
     "output_type": "stream",
     "text": [
      "Running Gamma: 0.1, Epsilon:0.0001\n",
      "Running Gamma: 0.1, Epsilon:0.001\n",
      "Running Gamma: 0.1, Epsilon:0.01\n",
      "Running Gamma: 0.1, Epsilon:0.1\n",
      "Running Gamma: 0.1, Epsilon:0.2\n",
      "Running Gamma: 0.1, Epsilon:0.3\n",
      "Running Gamma: 0.2, Epsilon:0.0001\n",
      "Running Gamma: 0.2, Epsilon:0.001\n",
      "Running Gamma: 0.2, Epsilon:0.01\n",
      "Running Gamma: 0.2, Epsilon:0.1\n",
      "Running Gamma: 0.2, Epsilon:0.2\n",
      "Running Gamma: 0.2, Epsilon:0.3\n",
      "Running Gamma: 0.3, Epsilon:0.0001\n",
      "Running Gamma: 0.3, Epsilon:0.001\n",
      "Running Gamma: 0.3, Epsilon:0.01\n",
      "Running Gamma: 0.3, Epsilon:0.1\n",
      "Running Gamma: 0.3, Epsilon:0.2\n",
      "Running Gamma: 0.3, Epsilon:0.3\n",
      "Running Gamma: 0.4, Epsilon:0.0001\n",
      "Running Gamma: 0.4, Epsilon:0.001\n",
      "Running Gamma: 0.4, Epsilon:0.01\n",
      "Running Gamma: 0.4, Epsilon:0.1\n",
      "Running Gamma: 0.4, Epsilon:0.2\n",
      "Running Gamma: 0.4, Epsilon:0.3\n",
      "Running Gamma: 0.5, Epsilon:0.0001\n",
      "Running Gamma: 0.5, Epsilon:0.001\n",
      "Running Gamma: 0.5, Epsilon:0.01\n",
      "Running Gamma: 0.5, Epsilon:0.1\n",
      "Running Gamma: 0.5, Epsilon:0.2\n",
      "Running Gamma: 0.5, Epsilon:0.3\n",
      "Running Gamma: 0.6, Epsilon:0.0001\n",
      "Running Gamma: 0.6, Epsilon:0.001\n",
      "Running Gamma: 0.6, Epsilon:0.01\n",
      "Running Gamma: 0.6, Epsilon:0.1\n",
      "Running Gamma: 0.6, Epsilon:0.2\n",
      "Running Gamma: 0.6, Epsilon:0.3\n",
      "Running Gamma: 0.7, Epsilon:0.0001\n",
      "Running Gamma: 0.7, Epsilon:0.001\n",
      "Running Gamma: 0.7, Epsilon:0.01\n",
      "Running Gamma: 0.7, Epsilon:0.1\n",
      "Running Gamma: 0.7, Epsilon:0.2\n",
      "Running Gamma: 0.7, Epsilon:0.3\n",
      "Running Gamma: 0.8, Epsilon:0.0001\n",
      "Running Gamma: 0.8, Epsilon:0.001\n",
      "Running Gamma: 0.8, Epsilon:0.01\n",
      "Running Gamma: 0.8, Epsilon:0.1\n",
      "Running Gamma: 0.8, Epsilon:0.2\n",
      "Running Gamma: 0.8, Epsilon:0.3\n",
      "Running Gamma: 0.9, Epsilon:0.0001\n",
      "Running Gamma: 0.9, Epsilon:0.001\n",
      "Running Gamma: 0.9, Epsilon:0.01\n",
      "Running Gamma: 0.9, Epsilon:0.1\n",
      "Running Gamma: 0.9, Epsilon:0.2\n",
      "Running Gamma: 0.9, Epsilon:0.3\n",
      "Running Gamma: 0.95, Epsilon:0.0001\n",
      "Running Gamma: 0.95, Epsilon:0.001\n",
      "Running Gamma: 0.95, Epsilon:0.01\n",
      "Running Gamma: 0.95, Epsilon:0.1\n",
      "Running Gamma: 0.95, Epsilon:0.2\n",
      "Running Gamma: 0.95, Epsilon:0.3\n",
      "Running Gamma: 0.99, Epsilon:0.0001\n",
      "Running Gamma: 0.99, Epsilon:0.001\n",
      "Running Gamma: 0.99, Epsilon:0.01\n",
      "Running Gamma: 0.99, Epsilon:0.1\n",
      "Running Gamma: 0.99, Epsilon:0.2\n",
      "Running Gamma: 0.99, Epsilon:0.3\n"
     ]
    }
   ],
   "source": [
    "val_iters = []\n",
    "\n",
    "for gamma in [0.1, 0.2, 0.3, 0.4, 0.5, 0.6, 0.7, 0.8, 0.9, 0.95, 0.99]:\n",
    "    for epsilon in [0.0001, 0.001, 0.01, 0.1, 0.2, 0.3]:\n",
    "        print('Running Gamma: {0}, Epsilon:{1}'.format(gamma, epsilon))\n",
    "        val_iter = mdp.ValueIteration(T, R, gamma=gamma, epsilon=epsilon, max_iter=1000, initial_value=0, skip_check=False)\n",
    "        val_iter.run()\n",
    "        val_iters.append(val_iter)"
   ]
  },
  {
   "cell_type": "code",
   "execution_count": 188,
   "id": "1f85610e",
   "metadata": {},
   "outputs": [],
   "source": [
    "def get_val_iter_runs(val_iters):\n",
    "    mean_error = []\n",
    "    policy = []\n",
    "    maxV = []\n",
    "    meanV = []\n",
    "    iters = []\n",
    "    epsilons = []\n",
    "    gammas = []\n",
    "    error = []\n",
    "    iterations = []\n",
    "    times = []\n",
    "    for val_iter in val_iters:\n",
    "        mean_error.append(val_iter.error_mean[0])\n",
    "        policy.append(val_iter.policy)\n",
    "        maxV.append([row['Max V'] for row in val_iter.run_stats])\n",
    "        meanV.append([row['Mean V'] for row in val_iter.run_stats])\n",
    "        error.append([row['Error'] for row in val_iter.run_stats])\n",
    "        iterations.append([row['Iteration'] for row in val_iter.run_stats])\n",
    "        iters.append(val_iter.iter)\n",
    "        epsilons.append(val_iter.epsilon)\n",
    "        gammas.append(val_iter.gamma)\n",
    "        times.append(val_iter.time)\n",
    "        \n",
    "    df = pd.DataFrame()\n",
    "    df['Mean Error'] = mean_error\n",
    "    df['Policy'] = policy\n",
    "    df['Max Value'] = maxV\n",
    "    df['Mean Value'] = meanV\n",
    "    df['Number of Iterations'] = iters\n",
    "    df['Epsilon'] = epsilons\n",
    "    df['Gamma'] = gammas\n",
    "    df['Error'] = error\n",
    "    df['Iterations'] = iterations\n",
    "    df['Run Time'] = times\n",
    "    return df"
   ]
  },
  {
   "cell_type": "code",
   "execution_count": 334,
   "id": "7570edfa",
   "metadata": {},
   "outputs": [],
   "source": [
    "df_val_iter_lake = get_val_iter_runs(val_iters)\n",
    "df_val_iter_lake.head()\n",
    "df_val_iter_lake.to_csv('lake_main_val_iter.csv')"
   ]
  },
  {
   "cell_type": "code",
   "execution_count": 335,
   "id": "9b427b23",
   "metadata": {},
   "outputs": [
    {
     "data": {
      "image/png": "[encoded data removed]",
      "text/plain": [
       "<Figure size 432x288 with 1 Axes>"
      ]
     },
     "metadata": {
      "needs_background": "light"
     },
     "output_type": "display_data"
    }
   ],
   "source": [
    "#plt.plot(df['Iterations'].values[0], df['Error'].values[0])\n",
    "sns.lineplot(data = df_val_iter_lake, x ='Epsilon', y = 'Mean Error')\n",
    "plt.savefig('lake_val_iter_eps_error.png')"
   ]
  },
  {
   "cell_type": "code",
   "execution_count": 336,
   "id": "b7868cbb",
   "metadata": {},
   "outputs": [
    {
     "data": {
      "image/png": "[encoded data removed]",
      "text/plain": [
       "<Figure size 432x288 with 1 Axes>"
      ]
     },
     "metadata": {
      "needs_background": "light"
     },
     "output_type": "display_data"
    }
   ],
   "source": [
    "sns.lineplot(data = df_val_iter_lake, x ='Gamma', y = 'Mean Error')\n",
    "plt.savefig('lake_val_iter_gamma_error.png')"
   ]
  },
  {
   "cell_type": "code",
   "execution_count": 387,
   "id": "32ef5bfd",
   "metadata": {},
   "outputs": [
    {
     "name": "stdout",
     "output_type": "stream",
     "text": [
      "Lake Value Iteration Optimal Model Epsilon:0.0001, Gamma:0.9\n"
     ]
    }
   ],
   "source": [
    "lake_val_iter_eps = df_val_iter_lake[df_val_iter_lake['Mean Error'] == df_val_iter_lake['Mean Error'].min()]['Epsilon'].values[0]\n",
    "lake_val_iter_gamma = df_val_iter_lake[df_val_iter_lake['Mean Error'] == df_val_iter_lake['Mean Error'].min()]['Gamma'].values[0]\n",
    "lake_val_iter_policy = df_val_iter_lake[df_val_iter_lake['Mean Error'] == df_val_iter_lake['Mean Error'].min()]['Policy']\n",
    "lake_val_iter_mean_value = df_val_iter_lake[df_val_iter_lake['Mean Error'] == df_val_iter_lake['Mean Error'].min()]['Mean Value']\n",
    "lake_val_iter_max_value = df_val_iter_lake[df_val_iter_lake['Mean Error'] == df_val_iter_lake['Mean Error'].min()]['Max Value']\n",
    "lake_val_iter_time = df_val_iter_lake[df_val_iter_lake['Mean Error'] == df_val_iter_lake['Mean Error'].min()]['Run Time'].values[0]\n",
    "lake_val_iter_iters = df_val_iter_lake[df_val_iter_lake['Mean Error'] == df_val_iter_lake['Mean Error'].min()]['Number of Iterations'].values[0]\n",
    "\n",
    "print('Lake Value Iteration Optimal Model Epsilon:{0}, Gamma:{1}'.format(lake_val_iter_eps, lake_val_iter_gamma))"
   ]
  },
  {
   "cell_type": "code",
   "execution_count": 338,
   "id": "6347166b",
   "metadata": {},
   "outputs": [
    {
     "data": {
      "image/png": "[encoded data removed]",
      "text/plain": [
       "<Figure size 576x216 with 2 Axes>"
      ]
     },
     "metadata": {
      "needs_background": "light"
     },
     "output_type": "display_data"
    }
   ],
   "source": [
    "fig = plt.figure(figsize=(8, 3))\n",
    "fig.tight_layout()\n",
    "\n",
    "plt.subplot(1, 2, 1)\n",
    "plt.plot(lake_val_iter_mean_value.values[0], label = 'Mean Value')\n",
    "plt.xlabel('Iteration')\n",
    "plt.ylabel('Value')\n",
    "plt.title('Mean Value')\n",
    "\n",
    "plt.subplot(1, 2, 2)\n",
    "plt.plot(lake_val_iter_max_value.values[0], label = 'Max Value')\n",
    "plt.xlabel('Iteration')\n",
    "\n",
    "plt.title('Max Value')\n",
    "\n",
    "plt.savefig('lake_val_iter_value.png')"
   ]
  },
  {
   "cell_type": "code",
   "execution_count": 124,
   "id": "ff06c6fd",
   "metadata": {},
   "outputs": [
    {
     "data": {
      "image/png": "[encoded data removed]",
      "text/plain": [
       "<Figure size 432x288 with 1 Axes>"
      ]
     },
     "metadata": {
      "needs_background": "light"
     },
     "output_type": "display_data"
    }
   ],
   "source": [
    "plt.hist(lake_val_iter_policy)\n",
    "ax = plt.gca()\n",
    "ax.set_xticks([0,1,2,3])\n",
    "ax.set_xticklabels(['Left', 'Down', 'Right', 'Up'])\n",
    "plt.savefig('lake_val_iter_policy.png')"
   ]
  },
  {
   "cell_type": "markdown",
   "id": "49c78a1a",
   "metadata": {},
   "source": [
    "## Lake - Policy Iteration"
   ]
  },
  {
   "cell_type": "code",
   "execution_count": 141,
   "id": "8460dc4f",
   "metadata": {},
   "outputs": [
    {
     "name": "stdout",
     "output_type": "stream",
     "text": [
      "Running Gamma: 0.1\n",
      "Running Gamma: 0.2\n",
      "Running Gamma: 0.3\n",
      "Running Gamma: 0.4\n",
      "Running Gamma: 0.5\n",
      "Running Gamma: 0.6\n",
      "Running Gamma: 0.7\n",
      "Running Gamma: 0.8\n",
      "Running Gamma: 0.9\n",
      "Running Gamma: 0.95\n",
      "Running Gamma: 0.99\n"
     ]
    }
   ],
   "source": [
    "pol_iters = []\n",
    "\n",
    "for gamma in [0.1, 0.2, 0.3, 0.4, 0.5, 0.6, 0.7, 0.8, 0.9, 0.95, 0.99]:\n",
    "    print('Running Gamma: {0}'.format(gamma))\n",
    "    pol_iter = mdp.ValueIteration(T, R, gamma=gamma, skip_check=False)\n",
    "    pol_iter.run()\n",
    "    pol_iters.append(val_iter)"
   ]
  },
  {
   "cell_type": "code",
   "execution_count": 195,
   "id": "17bac348",
   "metadata": {},
   "outputs": [],
   "source": [
    "def get_pol_iter_runs(pol_iters):\n",
    "    mean_error = []\n",
    "    policy = []\n",
    "    maxV = []\n",
    "    meanV = []\n",
    "    iters = []\n",
    "    epsilons = []\n",
    "    gammas = []\n",
    "    error = []\n",
    "    iterations = []\n",
    "    times = []\n",
    "    \n",
    "    for pol_iter in pol_iters:\n",
    "        mean_error.append(pol_iter.error_mean[0])\n",
    "        policy.append(pol_iter.policy)\n",
    "        maxV.append([row['Max V'] for row in pol_iter.run_stats])\n",
    "        meanV.append([row['Mean V'] for row in pol_iter.run_stats])\n",
    "        error.append([row['Error'] for row in pol_iter.run_stats])\n",
    "        iterations.append([row['Iteration'] for row in pol_iter.run_stats])\n",
    "        iters.append(pol_iter.iter)\n",
    "        gammas.append(pol_iter.gamma)\n",
    "        times.append(pol_iter.time)\n",
    "        \n",
    "    df = pd.DataFrame()\n",
    "    df['Mean Error'] = mean_error\n",
    "    df['Policy'] = policy\n",
    "    df['Max Value'] = maxV\n",
    "    df['Mean Value'] = meanV\n",
    "    df['Number of Iterations'] = iters\n",
    "    df['Gamma'] = gammas\n",
    "    df['Error'] = error\n",
    "    df['Iterations'] = iterations\n",
    "    df['Run Time'] = times\n",
    "    \n",
    "    return df"
   ]
  },
  {
   "cell_type": "code",
   "execution_count": 389,
   "id": "a0c28c5a",
   "metadata": {},
   "outputs": [],
   "source": [
    "df_pol_lake = get_pol_iter_runs(pol_iters)\n",
    "df_pol_lake.to_csv('lake_pol_iter.csv')"
   ]
  },
  {
   "cell_type": "code",
   "execution_count": 390,
   "id": "32dab2eb",
   "metadata": {},
   "outputs": [
    {
     "data": {
      "image/png": "[encoded data removed]",
      "text/plain": [
       "<Figure size 432x288 with 1 Axes>"
      ]
     },
     "metadata": {
      "needs_background": "light"
     },
     "output_type": "display_data"
    }
   ],
   "source": [
    "sns.lineplot(data = df_pol_lake, x ='Gamma', y = 'Mean Error')\n",
    "plt.savefig('lake_pol_iter_gamma_error.png')"
   ]
  },
  {
   "cell_type": "code",
   "execution_count": 391,
   "id": "0387b115",
   "metadata": {},
   "outputs": [
    {
     "name": "stdout",
     "output_type": "stream",
     "text": [
      "Lake Policy Iteration Optimal Model Gamma:0.95\n"
     ]
    }
   ],
   "source": [
    "lake_pol_iter_gamma = df_pol_lake[df_pol_lake['Mean Error'] == df_pol_lake['Mean Error'].min()]['Gamma'].values[0]\n",
    "lake_pol_iter_policy = df_pol_lake[df_pol_lake['Mean Error'] == df_pol_lake['Mean Error'].min()]['Policy']\n",
    "\n",
    "lake_pol_iter_mean_value = df_pol_lake[df_pol_lake['Mean Error'] == df_pol_lake['Mean Error'].min()]['Mean Value']\n",
    "lake_pol_iter_max_value = df_pol_lake[df_pol_lake['Mean Error'] == df_pol_lake['Mean Error'].min()]['Max Value']\n",
    "\n",
    "lake_pol_iter_time = df_pol_lake[df_pol_lake['Mean Error'] == df_pol_lake['Mean Error'].min()]['Run Time'].values[0]\n",
    "lake_pol_iter_iters = df_pol_lake[df_pol_lake['Mean Error'] == df_pol_lake['Mean Error'].min()]['Number of Iterations'].values[0]\n",
    "\n",
    "print('Lake Policy Iteration Optimal Model Gamma:{0}'.format(lake_pol_iter_gamma))"
   ]
  },
  {
   "cell_type": "code",
   "execution_count": 332,
   "id": "10167200",
   "metadata": {},
   "outputs": [
    {
     "data": {
      "image/png": "[encoded data removed]",
      "text/plain": [
       "<Figure size 432x288 with 1 Axes>"
      ]
     },
     "metadata": {
      "needs_background": "light"
     },
     "output_type": "display_data"
    }
   ],
   "source": [
    "plt.hist(lake_pol_iter_policy)\n",
    "ax = plt.gca()\n",
    "ax.set_xticks([0,1,2,3])\n",
    "ax.set_xticklabels(['Left', 'Down', 'Right', 'Up'])\n",
    "plt.savefig('lake_pol_iter_policy_hist.png')"
   ]
  },
  {
   "cell_type": "code",
   "execution_count": 333,
   "id": "c391558f",
   "metadata": {},
   "outputs": [
    {
     "data": {
      "image/png": "[encoded data removed]",
      "text/plain": [
       "<Figure size 576x216 with 2 Axes>"
      ]
     },
     "metadata": {
      "needs_background": "light"
     },
     "output_type": "display_data"
    }
   ],
   "source": [
    "fig = plt.figure(figsize=(8, 3))\n",
    "fig.tight_layout()\n",
    "\n",
    "plt.subplot(1, 2, 1)\n",
    "plt.plot(lake_pol_iter_mean_value.values[0], label = 'Mean Value')\n",
    "plt.xlabel('Iteration')\n",
    "plt.ylabel('Value')\n",
    "plt.title('Mean Value')\n",
    "\n",
    "plt.subplot(1, 2, 2)\n",
    "plt.plot(lake_pol_iter_max_value.values[0], label = 'Max Value')\n",
    "plt.xlabel('Iteration')\n",
    "\n",
    "plt.title('Max Value')\n",
    "\n",
    "plt.savefig('lake_pol_iter_value.png')"
   ]
  },
  {
   "cell_type": "markdown",
   "id": "bac2d5d2",
   "metadata": {},
   "source": [
    "## Lake - Q Learning"
   ]
  },
  {
   "cell_type": "code",
   "execution_count": 160,
   "id": "d5be01dc",
   "metadata": {},
   "outputs": [
    {
     "name": "stdout",
     "output_type": "stream",
     "text": [
      "0/243\n",
      "1/243\n",
      "2/243\n",
      "3/243\n",
      "4/243\n",
      "5/243\n",
      "6/243\n",
      "7/243\n",
      "8/243\n",
      "9/243\n",
      "10/243\n",
      "11/243\n",
      "12/243\n",
      "13/243\n",
      "14/243\n",
      "15/243\n",
      "16/243\n",
      "17/243\n",
      "18/243\n",
      "19/243\n",
      "20/243\n",
      "21/243\n",
      "22/243\n",
      "23/243\n",
      "24/243\n",
      "25/243\n",
      "26/243\n",
      "27/243\n",
      "28/243\n",
      "29/243\n",
      "30/243\n",
      "31/243\n",
      "32/243\n",
      "33/243\n",
      "34/243\n",
      "35/243\n",
      "36/243\n",
      "37/243\n",
      "38/243\n",
      "39/243\n",
      "40/243\n",
      "41/243\n",
      "42/243\n",
      "43/243\n",
      "44/243\n",
      "45/243\n",
      "46/243\n",
      "47/243\n",
      "48/243\n",
      "49/243\n",
      "50/243\n",
      "51/243\n",
      "52/243\n",
      "53/243\n",
      "54/243\n",
      "55/243\n",
      "56/243\n",
      "57/243\n",
      "58/243\n",
      "59/243\n",
      "60/243\n",
      "61/243\n",
      "62/243\n",
      "63/243\n",
      "64/243\n",
      "65/243\n",
      "66/243\n",
      "67/243\n",
      "68/243\n",
      "69/243\n",
      "70/243\n",
      "71/243\n",
      "72/243\n",
      "73/243\n",
      "74/243\n",
      "75/243\n",
      "76/243\n",
      "77/243\n",
      "78/243\n",
      "79/243\n",
      "80/243\n",
      "81/243\n",
      "82/243\n",
      "83/243\n",
      "84/243\n",
      "85/243\n",
      "86/243\n",
      "87/243\n",
      "88/243\n",
      "89/243\n",
      "90/243\n",
      "91/243\n",
      "92/243\n",
      "93/243\n",
      "94/243\n",
      "95/243\n",
      "96/243\n",
      "97/243\n",
      "98/243\n",
      "99/243\n",
      "100/243\n",
      "101/243\n",
      "102/243\n",
      "103/243\n",
      "104/243\n",
      "105/243\n",
      "106/243\n",
      "107/243\n",
      "108/243\n",
      "109/243\n",
      "110/243\n",
      "111/243\n",
      "112/243\n",
      "113/243\n",
      "114/243\n",
      "115/243\n",
      "116/243\n",
      "117/243\n",
      "118/243\n",
      "119/243\n",
      "120/243\n",
      "121/243\n",
      "122/243\n",
      "123/243\n",
      "124/243\n",
      "125/243\n",
      "126/243\n",
      "127/243\n",
      "128/243\n",
      "129/243\n",
      "130/243\n",
      "131/243\n",
      "132/243\n",
      "133/243\n",
      "134/243\n",
      "135/243\n",
      "136/243\n",
      "137/243\n",
      "138/243\n",
      "139/243\n",
      "140/243\n",
      "141/243\n",
      "142/243\n",
      "143/243\n",
      "144/243\n",
      "145/243\n",
      "146/243\n",
      "147/243\n",
      "148/243\n",
      "149/243\n",
      "150/243\n",
      "151/243\n",
      "152/243\n",
      "153/243\n",
      "154/243\n",
      "155/243\n",
      "156/243\n",
      "157/243\n",
      "158/243\n",
      "159/243\n",
      "160/243\n",
      "161/243\n",
      "162/243\n",
      "163/243\n",
      "164/243\n",
      "165/243\n",
      "166/243\n",
      "167/243\n",
      "168/243\n",
      "169/243\n",
      "170/243\n",
      "171/243\n",
      "172/243\n",
      "173/243\n",
      "174/243\n",
      "175/243\n",
      "176/243\n",
      "177/243\n",
      "178/243\n",
      "179/243\n",
      "180/243\n",
      "181/243\n",
      "182/243\n",
      "183/243\n",
      "184/243\n",
      "185/243\n",
      "186/243\n",
      "187/243\n",
      "188/243\n",
      "189/243\n",
      "190/243\n",
      "191/243\n",
      "192/243\n",
      "193/243\n",
      "194/243\n",
      "195/243\n",
      "196/243\n",
      "197/243\n",
      "198/243\n",
      "199/243\n",
      "200/243\n",
      "201/243\n",
      "202/243\n",
      "203/243\n",
      "204/243\n",
      "205/243\n",
      "206/243\n",
      "207/243\n",
      "208/243\n",
      "209/243\n",
      "210/243\n",
      "211/243\n",
      "212/243\n",
      "213/243\n",
      "214/243\n",
      "215/243\n",
      "216/243\n",
      "217/243\n",
      "218/243\n",
      "219/243\n",
      "220/243\n",
      "221/243\n",
      "222/243\n",
      "223/243\n",
      "224/243\n",
      "225/243\n",
      "226/243\n",
      "227/243\n",
      "228/243\n",
      "229/243\n",
      "230/243\n",
      "231/243\n",
      "232/243\n",
      "233/243\n",
      "234/243\n",
      "235/243\n",
      "236/243\n",
      "237/243\n",
      "238/243\n",
      "239/243\n",
      "240/243\n",
      "241/243\n",
      "242/243\n"
     ]
    }
   ],
   "source": [
    "gammas = [0.9, 0.95, 0.99]\n",
    "alphas = [0.01, 0.1, 0.2]\n",
    "alpha_decays = [0.75, 0.9, 0.99]\n",
    "epsilons = [0.9, 0.99, 1]\n",
    "epsilon_decays= [0.75, 0.9, 0.99]\n",
    "\n",
    "n = len(gammas) * len(alphas) * len(alpha_decays)*len(epsilons)*len(epsilon_decays)\n",
    "q_solvers = []\n",
    "\n",
    "for gamma in gammas:\n",
    "    for alpha in alphas:\n",
    "        for alpha_decay in alpha_decays:\n",
    "            for epsilon in epsilons:\n",
    "                for epsilon_decay in epsilon_decays:\n",
    "                    print('{0}/{1}'.format(len(q_solvers),n))\n",
    "                    q_solve = mdp.QLearning(T, R, gamma = gamma, alpha=alpha, alpha_decay=alpha_decay,\n",
    "                                            epsilon=epsilon, epsilon_decay=epsilon_decay,  skip_check=True)\n",
    "                    q_solve.run()\n",
    "                    q_solvers.append(q_solve)\n",
    "                            "
   ]
  },
  {
   "cell_type": "code",
   "execution_count": 245,
   "id": "4f329923",
   "metadata": {},
   "outputs": [],
   "source": [
    "def get_q_runs(q_runs):\n",
    "    actions = []\n",
    "    mean_error = []\n",
    "    policy = []\n",
    "    maxV = []\n",
    "    meanV = []\n",
    "    iters = []\n",
    "    epsilons = []\n",
    "    gammas = []\n",
    "    error = []\n",
    "    iterations = []\n",
    "    alphas = []\n",
    "    alpha_decays = []\n",
    "    epsilon_decays = []\n",
    "    times = []\n",
    "    \n",
    "    for q_run in q_runs:\n",
    "        mean_error.append(q_run.error_mean[0])\n",
    "        policy.append(q_run.policy)\n",
    "        actions.append([row['Action'] for row in q_run.run_stats])\n",
    "        maxV.append([row['Max V'] for row in q_run.run_stats])\n",
    "        meanV.append([row['Mean V'] for row in q_run.run_stats])\n",
    "        error.append([row['Error'] for row in q_run.run_stats])\n",
    "        iterations.append([row['Iteration'] for row in q_run.run_stats])\n",
    "        epsilons.append(q_run.run_stats[0]['Epsilon'])\n",
    "        gammas.append(q_run.gamma)\n",
    "        times.append(q_run.time)\n",
    "        alphas.append(q_run.run_stats[0]['Alpha'])\n",
    "        alpha_decays.append(q_run.alpha_decay)\n",
    "        epsilon_decays.append(q_run.epsilon_decay)\n",
    "        \n",
    "    df = pd.DataFrame()\n",
    "    df['Mean Error'] = mean_error\n",
    "    df['Policy'] = policy\n",
    "    df['Max Value'] = maxV\n",
    "    df['Mean Value'] = meanV\n",
    "    df['Epsilon'] = epsilons\n",
    "    df['Gamma'] = gammas\n",
    "    df['Error'] = error\n",
    "    df['Run Time'] = times\n",
    "    df['Alpha'] = alphas\n",
    "    df['Alpha Decay'] = alpha_decays\n",
    "    df['Epsilon Decay'] = epsilon_decays\n",
    "    \n",
    "    return df"
   ]
  },
  {
   "cell_type": "code",
   "execution_count": 180,
   "id": "56c4278e",
   "metadata": {},
   "outputs": [],
   "source": [
    "lake_q_df = get_q_runs(q_solvers)\n",
    "lake_q_df.to_csv('lake_q_main.csv')"
   ]
  },
  {
   "cell_type": "code",
   "execution_count": 212,
   "id": "ce13c208",
   "metadata": {},
   "outputs": [
    {
     "data": {
      "text/html": [
       "<div>\n",
       "<style scoped>\n",
       "    .dataframe tbody tr th:only-of-type {\n",
       "        vertical-align: middle;\n",
       "    }\n",
       "\n",
       "    .dataframe tbody tr th {\n",
       "        vertical-align: top;\n",
       "    }\n",
       "\n",
       "    .dataframe thead th {\n",
       "        text-align: right;\n",
       "    }\n",
       "</style>\n",
       "<table border=\"1\" class=\"dataframe\">\n",
       "  <thead>\n",
       "    <tr style=\"text-align: right;\">\n",
       "      <th></th>\n",
       "      <th>Mean Error</th>\n",
       "      <th>Policy</th>\n",
       "      <th>Max Value</th>\n",
       "      <th>Mean Value</th>\n",
       "      <th>Epsilon</th>\n",
       "      <th>Gamma</th>\n",
       "      <th>Error</th>\n",
       "      <th>Run Time</th>\n",
       "      <th>Alpha</th>\n",
       "      <th>Alpha Decay</th>\n",
       "      <th>Epsilon Decay</th>\n",
       "    </tr>\n",
       "  </thead>\n",
       "  <tbody>\n",
       "    <tr>\n",
       "      <th>0</th>\n",
       "      <td>0.000000</td>\n",
       "      <td>(0, 0, 0, 0, 0, 0, 0, 0, 0, 0, 0, 0, 0, 0, 0, ...</td>\n",
       "      <td>[0.0, 0.0, 0.0, 0.0, 0.0, 0.0, 0.0, 0.0, 0.0, ...</td>\n",
       "      <td>[0.0, 0.0, 0.0, 0.0, 0.0, 0.0, 0.0, 0.0, 0.0, ...</td>\n",
       "      <td>0.1</td>\n",
       "      <td>0.9</td>\n",
       "      <td>[0.0, 0.0, 0.0, 0.0, 0.0, 0.0, 0.0, 0.0, 0.0, ...</td>\n",
       "      <td>1.808224</td>\n",
       "      <td>0.001</td>\n",
       "      <td>0.75</td>\n",
       "      <td>0.75</td>\n",
       "    </tr>\n",
       "    <tr>\n",
       "      <th>1</th>\n",
       "      <td>0.001104</td>\n",
       "      <td>(0, 0, 0, 0, 0, 0, 0, 0, 0, 0, 0, 0, 0, 0, 0, ...</td>\n",
       "      <td>[0.0, 0.0, 0.0, 0.0, 0.0, 0.0, 0.0, 0.0, 0.0, ...</td>\n",
       "      <td>[0.0, 0.0, 0.0, 0.0, 0.0, 0.0, 0.0, -3.3370971...</td>\n",
       "      <td>0.1</td>\n",
       "      <td>0.9</td>\n",
       "      <td>[0.0, 0.0, 0.005625, 0.00421875, 0.0031640625,...</td>\n",
       "      <td>1.720495</td>\n",
       "      <td>0.001</td>\n",
       "      <td>0.75</td>\n",
       "      <td>0.90</td>\n",
       "    </tr>\n",
       "    <tr>\n",
       "      <th>2</th>\n",
       "      <td>0.000550</td>\n",
       "      <td>(0, 0, 0, 0, 0, 0, 0, 0, 0, 0, 0, 0, 0, 0, 3, ...</td>\n",
       "      <td>[0.0, 0.0, 0.0, 0.0, 0.0, 0.0, 0.0, 0.0, 0.0, ...</td>\n",
       "      <td>[0.0, 0.0, 0.0, 0.0, 0.0, 0.0, 0.0, 0.0, 0.0, ...</td>\n",
       "      <td>0.1</td>\n",
       "      <td>0.9</td>\n",
       "      <td>[0.0, 0.0, 0.0, 0.0, 0.0, 0.0, 0.0, 0.0, 0.0, ...</td>\n",
       "      <td>1.822629</td>\n",
       "      <td>0.001</td>\n",
       "      <td>0.75</td>\n",
       "      <td>0.99</td>\n",
       "    </tr>\n",
       "    <tr>\n",
       "      <th>3</th>\n",
       "      <td>0.000809</td>\n",
       "      <td>(0, 0, 0, 0, 0, 0, 0, 0, 0, 0, 0, 0, 0, 0, 1, ...</td>\n",
       "      <td>[0.0, 0.0, 0.0, 0.0, 0.0, 0.0, 0.0, 0.0, 0.0, ...</td>\n",
       "      <td>[0.0, 0.0, 0.0, 0.0, 0.0, 0.0, 0.0, 0.0, 0.0, ...</td>\n",
       "      <td>0.1</td>\n",
       "      <td>0.9</td>\n",
       "      <td>[0.0, 0.0, 0.0, 0.0, 0.0, 0.0, 0.0, 0.0, 0.0, ...</td>\n",
       "      <td>1.689210</td>\n",
       "      <td>0.001</td>\n",
       "      <td>0.75</td>\n",
       "      <td>0.75</td>\n",
       "    </tr>\n",
       "    <tr>\n",
       "      <th>4</th>\n",
       "      <td>0.000000</td>\n",
       "      <td>(0, 0, 0, 0, 0, 0, 0, 0, 0, 0, 0, 0, 0, 0, 2, ...</td>\n",
       "      <td>[0.0, 0.0, 0.0, 0.0, 0.0, 0.0, 0.0, 0.0, 0.0, ...</td>\n",
       "      <td>[0.0, 0.0, 0.0, 0.0, 0.0, 0.0, 0.0, 0.0, 0.0, ...</td>\n",
       "      <td>0.1</td>\n",
       "      <td>0.9</td>\n",
       "      <td>[0.0, 0.0, 0.0, 0.0, 0.0, 0.0, 0.0, 0.0, 0.0, ...</td>\n",
       "      <td>1.490014</td>\n",
       "      <td>0.001</td>\n",
       "      <td>0.75</td>\n",
       "      <td>0.90</td>\n",
       "    </tr>\n",
       "  </tbody>\n",
       "</table>\n",
       "</div>"
      ],
      "text/plain": [
       "   Mean Error                                             Policy  \\\n",
       "0    0.000000  (0, 0, 0, 0, 0, 0, 0, 0, 0, 0, 0, 0, 0, 0, 0, ...   \n",
       "1    0.001104  (0, 0, 0, 0, 0, 0, 0, 0, 0, 0, 0, 0, 0, 0, 0, ...   \n",
       "2    0.000550  (0, 0, 0, 0, 0, 0, 0, 0, 0, 0, 0, 0, 0, 0, 3, ...   \n",
       "3    0.000809  (0, 0, 0, 0, 0, 0, 0, 0, 0, 0, 0, 0, 0, 0, 1, ...   \n",
       "4    0.000000  (0, 0, 0, 0, 0, 0, 0, 0, 0, 0, 0, 0, 0, 0, 2, ...   \n",
       "\n",
       "                                           Max Value  \\\n",
       "0  [0.0, 0.0, 0.0, 0.0, 0.0, 0.0, 0.0, 0.0, 0.0, ...   \n",
       "1  [0.0, 0.0, 0.0, 0.0, 0.0, 0.0, 0.0, 0.0, 0.0, ...   \n",
       "2  [0.0, 0.0, 0.0, 0.0, 0.0, 0.0, 0.0, 0.0, 0.0, ...   \n",
       "3  [0.0, 0.0, 0.0, 0.0, 0.0, 0.0, 0.0, 0.0, 0.0, ...   \n",
       "4  [0.0, 0.0, 0.0, 0.0, 0.0, 0.0, 0.0, 0.0, 0.0, ...   \n",
       "\n",
       "                                          Mean Value  Epsilon  Gamma  \\\n",
       "0  [0.0, 0.0, 0.0, 0.0, 0.0, 0.0, 0.0, 0.0, 0.0, ...      0.1    0.9   \n",
       "1  [0.0, 0.0, 0.0, 0.0, 0.0, 0.0, 0.0, -3.3370971...      0.1    0.9   \n",
       "2  [0.0, 0.0, 0.0, 0.0, 0.0, 0.0, 0.0, 0.0, 0.0, ...      0.1    0.9   \n",
       "3  [0.0, 0.0, 0.0, 0.0, 0.0, 0.0, 0.0, 0.0, 0.0, ...      0.1    0.9   \n",
       "4  [0.0, 0.0, 0.0, 0.0, 0.0, 0.0, 0.0, 0.0, 0.0, ...      0.1    0.9   \n",
       "\n",
       "                                               Error  Run Time  Alpha  \\\n",
       "0  [0.0, 0.0, 0.0, 0.0, 0.0, 0.0, 0.0, 0.0, 0.0, ...  1.808224  0.001   \n",
       "1  [0.0, 0.0, 0.005625, 0.00421875, 0.0031640625,...  1.720495  0.001   \n",
       "2  [0.0, 0.0, 0.0, 0.0, 0.0, 0.0, 0.0, 0.0, 0.0, ...  1.822629  0.001   \n",
       "3  [0.0, 0.0, 0.0, 0.0, 0.0, 0.0, 0.0, 0.0, 0.0, ...  1.689210  0.001   \n",
       "4  [0.0, 0.0, 0.0, 0.0, 0.0, 0.0, 0.0, 0.0, 0.0, ...  1.490014  0.001   \n",
       "\n",
       "   Alpha Decay  Epsilon Decay  \n",
       "0         0.75           0.75  \n",
       "1         0.75           0.90  \n",
       "2         0.75           0.99  \n",
       "3         0.75           0.75  \n",
       "4         0.75           0.90  "
      ]
     },
     "execution_count": 212,
     "metadata": {},
     "output_type": "execute_result"
    }
   ],
   "source": [
    "lake_q_df.head()"
   ]
  },
  {
   "cell_type": "code",
   "execution_count": 392,
   "id": "7eaf7208",
   "metadata": {},
   "outputs": [
    {
     "name": "stdout",
     "output_type": "stream",
     "text": [
      "Lake Q Learning Optimal Model Gamma:0.9, Epsilon:0.1, Eps. Decay:0.75, Alpha:0.001, Alpha Decay:0.75\n"
     ]
    }
   ],
   "source": [
    "lake_q_gamma = lake_q_df[lake_q_df['Mean Error'] == lake_q_df['Mean Error'].min()]['Gamma'].values[0]\n",
    "lake_q_eps = lake_q_df[lake_q_df['Mean Error'] == lake_q_df['Mean Error'].min()]['Epsilon'].values[0]\n",
    "lake_q_eps_decay = lake_q_df[lake_q_df['Mean Error'] == lake_q_df['Mean Error'].min()]['Epsilon Decay'].values[0]\n",
    "lake_q_alpha = lake_q_df[lake_q_df['Mean Error'] == lake_q_df['Mean Error'].min()]['Alpha'].values[0]\n",
    "lake_q_alpha_decay = lake_q_df[lake_q_df['Mean Error'] == lake_q_df['Mean Error'].min()]['Alpha Decay'].values[0]\n",
    "\n",
    "lake_q_policy = lake_q_df[lake_q_df['Mean Error'] == lake_q_df['Mean Error'].min()]['Policy']\n",
    "lake_q_mean_value = fm_q_df[lake_q_df['Mean Error'] == lake_q_df['Mean Error'].min()]['Mean Value']\n",
    "lake_q_max_value = fm_q_df[lake_q_df['Mean Error'] == lake_q_df['Mean Error'].min()]['Max Value']\n",
    "lake_q_policy = lake_q_df[lake_q_df['Mean Error'] == lake_q_df['Mean Error'].min()]['Policy']\n",
    "\n",
    "lake_q_time = lake_q_df[lake_q_df['Mean Error'] == lake_q_df['Mean Error'].min()]['Run Time'].values[0]\n",
    "lake_q_iters = len(lake_q_max_value.values[0])\n",
    "\n",
    "print('Lake Q Learning Optimal Model Gamma:{0}, Epsilon:{1}, Eps. Decay:{2}, Alpha:{3}, Alpha Decay:{4}'.format(lake_q_gamma, lake_q_eps, lake_q_eps_decay, lake_q_alpha, lake_q_alpha_decay))\n"
   ]
  },
  {
   "cell_type": "code",
   "execution_count": 330,
   "id": "404beb2e",
   "metadata": {},
   "outputs": [
    {
     "data": {
      "image/png": "[encoded data removed]",
      "text/plain": [
       "<Figure size 576x216 with 2 Axes>"
      ]
     },
     "metadata": {
      "needs_background": "light"
     },
     "output_type": "display_data"
    }
   ],
   "source": [
    "fig = plt.figure(figsize=(8, 3))\n",
    "fig.tight_layout()\n",
    "\n",
    "plt.subplot(1, 2, 1)\n",
    "plt.plot(lake_q_mean_value.values[0], label = 'Mean Value')\n",
    "plt.xlabel('Iteration')\n",
    "plt.ylabel('Value')\n",
    "plt.title('Mean Value')\n",
    "\n",
    "plt.subplot(1, 2, 2)\n",
    "plt.plot(lake_q_max_value.values[0], label = 'Max Value')\n",
    "plt.xlabel('Iteration')\n",
    "\n",
    "plt.title('Max Value')\n",
    "\n",
    "plt.savefig('lake_q_value.png')"
   ]
  },
  {
   "cell_type": "code",
   "execution_count": 364,
   "id": "3ee02dcb",
   "metadata": {},
   "outputs": [
    {
     "data": {
      "image/png": "[encoded data removed]",
      "text/plain": [
       "<Figure size 1440x1080 with 3 Axes>"
      ]
     },
     "metadata": {
      "needs_background": "light"
     },
     "output_type": "display_data"
    }
   ],
   "source": [
    "fig = plt.figure(figsize=(20, 15))\n",
    "fig.tight_layout()\n",
    "\n",
    "plt.subplot(3, 1, 1)\n",
    "y = list(lake_val_iter_policy.values[0])\n",
    "n = len(y)\n",
    "x = list(range(n))\n",
    "plt.barh(y, [1]*len(x), left=x, color = 'blue', edgecolor = 'blue', align='center', height=1)\n",
    "plt.yticks([0,1, 2, 3], ['Left', 'Down', 'Right', ' Up'], fontsize= 20)\n",
    "plt.xticks([])\n",
    "\n",
    "plt.subplot(3, 1, 2)\n",
    "y = list(lake_pol_iter_policy.values[0])\n",
    "n = len(y)\n",
    "x = list(range(n))\n",
    "plt.barh(y, [1]*len(x), left=x, color = 'green', edgecolor = 'green', align='center', height=1)\n",
    "plt.yticks([0,1, 2, 3], ['Left', 'Down', 'Right', ' Up'], fontsize= 20)\n",
    "plt.xticks([])\n",
    "\n",
    "plt.subplot(3, 1, 3)\n",
    "y = list(lake_q_policy.values[0])\n",
    "n = len(y)\n",
    "x = list(range(n))\n",
    "plt.barh(y, [1]*len(x), left=x, color = 'red', edgecolor = 'red', align='center', height=1)\n",
    "plt.yticks([0,1, 2, 3], ['Left', 'Down', 'Right', ' Up'], fontsize= 20)\n",
    "plt.xticks([])\n",
    "\n",
    "plt.savefig('lake_opt_policy_actions.png')"
   ]
  },
  {
   "cell_type": "code",
   "execution_count": 351,
   "id": "1a1c5457",
   "metadata": {},
   "outputs": [
    {
     "data": {
      "text/plain": [
       "([<matplotlib.axis.XTick at 0x1729074ef70>,\n",
       "  <matplotlib.axis.XTick at 0x1729074ef40>,\n",
       "  <matplotlib.axis.XTick at 0x172906ff6d0>,\n",
       "  <matplotlib.axis.XTick at 0x172907830d0>],\n",
       " [Text(0, 0, 'Left'),\n",
       "  Text(1, 0, 'Down'),\n",
       "  Text(2, 0, 'Right'),\n",
       "  Text(3, 0, ' Up')])"
      ]
     },
     "execution_count": 351,
     "metadata": {},
     "output_type": "execute_result"
    },
    {
     "data": {
      "image/png": "[encoded data removed]",
      "text/plain": [
       "<Figure size 432x288 with 1 Axes>"
      ]
     },
     "metadata": {
      "needs_background": "light"
     },
     "output_type": "display_data"
    }
   ],
   "source": [
    "ax = sns.histplot(data=lake_val_iter_policy.values[0], color= 'blue', label = 'Value Iteration', legend=True)\n",
    "ax = sns.histplot(data=lake_pol_iter_policy.values[0], color='green',label = 'Policy Iteration', legend=True)\n",
    "ax = sns.histplot(data=lake_q_policy.values[0], color='red', label = 'Q Learning', legend=True)\n",
    "ax.legend()\n",
    "plt.ylim([0, 75])\n",
    "plt.xticks([0,1, 2, 3], ['Left', 'Down', 'Right', ' Up'])\n",
    "#plt.savefig('figs/nn_best_prob_hist.png', dpi=300)"
   ]
  },
  {
   "cell_type": "code",
   "execution_count": 393,
   "id": "dc9d564a",
   "metadata": {},
   "outputs": [
    {
     "name": "stdout",
     "output_type": "stream",
     "text": [
      "Lake Value Iteration. Run Time:0.01562809944152832 for 89 iterations\n",
      "Lake Policy Iteration. Run Time:0.015538215637207031 for 91 iterations\n",
      "Lake Q Learning. Run Time:1.8082244396209717 for 10000 iterations\n"
     ]
    }
   ],
   "source": [
    "print('Lake Value Iteration. Run Time:{0} for {1} iterations'.format(lake_val_iter_time, lake_val_iter_iters))\n",
    "print('Lake Policy Iteration. Run Time:{0} for {1} iterations'.format(lake_pol_iter_time, lake_pol_iter_iters))\n",
    "print('Lake Q Learning. Run Time:{0} for {1} iterations'.format(lake_q_time, lake_q_iters))"
   ]
  },
  {
   "cell_type": "markdown",
   "id": "dcc33a46",
   "metadata": {},
   "source": [
    "## Main Scenarios - Forest Management"
   ]
  },
  {
   "cell_type": "code",
   "execution_count": 181,
   "id": "c7206473-2e17-4390-91c4-4953fbe4049c",
   "metadata": {},
   "outputs": [],
   "source": [
    "num_states = 2000\n",
    "P_fm, R_fm = hiive.mdptoolbox.example.forest(S=num_states, p=0.01)"
   ]
  },
  {
   "cell_type": "code",
   "execution_count": 185,
   "id": "afad2314",
   "metadata": {},
   "outputs": [
    {
     "name": "stdout",
     "output_type": "stream",
     "text": [
      "Running Gamma: 0.1, Epsilon:0.0001\n",
      "Running Gamma: 0.1, Epsilon:0.001\n",
      "Running Gamma: 0.1, Epsilon:0.01\n",
      "Running Gamma: 0.1, Epsilon:0.1\n",
      "Running Gamma: 0.1, Epsilon:0.2\n",
      "Running Gamma: 0.1, Epsilon:0.3\n",
      "Running Gamma: 0.2, Epsilon:0.0001\n",
      "Running Gamma: 0.2, Epsilon:0.001\n",
      "Running Gamma: 0.2, Epsilon:0.01\n",
      "Running Gamma: 0.2, Epsilon:0.1\n",
      "Running Gamma: 0.2, Epsilon:0.2\n",
      "Running Gamma: 0.2, Epsilon:0.3\n",
      "Running Gamma: 0.3, Epsilon:0.0001\n",
      "Running Gamma: 0.3, Epsilon:0.001\n",
      "Running Gamma: 0.3, Epsilon:0.01\n",
      "Running Gamma: 0.3, Epsilon:0.1\n",
      "Running Gamma: 0.3, Epsilon:0.2\n",
      "Running Gamma: 0.3, Epsilon:0.3\n",
      "Running Gamma: 0.4, Epsilon:0.0001\n",
      "Running Gamma: 0.4, Epsilon:0.001\n",
      "Running Gamma: 0.4, Epsilon:0.01\n",
      "Running Gamma: 0.4, Epsilon:0.1\n",
      "Running Gamma: 0.4, Epsilon:0.2\n",
      "Running Gamma: 0.4, Epsilon:0.3\n",
      "Running Gamma: 0.5, Epsilon:0.0001\n",
      "Running Gamma: 0.5, Epsilon:0.001\n",
      "Running Gamma: 0.5, Epsilon:0.01\n",
      "Running Gamma: 0.5, Epsilon:0.1\n",
      "Running Gamma: 0.5, Epsilon:0.2\n",
      "Running Gamma: 0.5, Epsilon:0.3\n",
      "Running Gamma: 0.6, Epsilon:0.0001\n",
      "Running Gamma: 0.6, Epsilon:0.001\n",
      "Running Gamma: 0.6, Epsilon:0.01\n",
      "Running Gamma: 0.6, Epsilon:0.1\n",
      "Running Gamma: 0.6, Epsilon:0.2\n",
      "Running Gamma: 0.6, Epsilon:0.3\n",
      "Running Gamma: 0.7, Epsilon:0.0001\n",
      "Running Gamma: 0.7, Epsilon:0.001\n",
      "Running Gamma: 0.7, Epsilon:0.01\n",
      "Running Gamma: 0.7, Epsilon:0.1\n",
      "Running Gamma: 0.7, Epsilon:0.2\n",
      "Running Gamma: 0.7, Epsilon:0.3\n",
      "Running Gamma: 0.8, Epsilon:0.0001\n",
      "Running Gamma: 0.8, Epsilon:0.001\n",
      "Running Gamma: 0.8, Epsilon:0.01\n",
      "Running Gamma: 0.8, Epsilon:0.1\n",
      "Running Gamma: 0.8, Epsilon:0.2\n",
      "Running Gamma: 0.8, Epsilon:0.3\n",
      "Running Gamma: 0.9, Epsilon:0.0001\n",
      "Running Gamma: 0.9, Epsilon:0.001\n",
      "Running Gamma: 0.9, Epsilon:0.01\n",
      "Running Gamma: 0.9, Epsilon:0.1\n",
      "Running Gamma: 0.9, Epsilon:0.2\n",
      "Running Gamma: 0.9, Epsilon:0.3\n",
      "Running Gamma: 0.95, Epsilon:0.0001\n",
      "Running Gamma: 0.95, Epsilon:0.001\n",
      "Running Gamma: 0.95, Epsilon:0.01\n",
      "Running Gamma: 0.95, Epsilon:0.1\n",
      "Running Gamma: 0.95, Epsilon:0.2\n",
      "Running Gamma: 0.95, Epsilon:0.3\n",
      "Running Gamma: 0.99, Epsilon:0.0001\n",
      "Running Gamma: 0.99, Epsilon:0.001\n",
      "Running Gamma: 0.99, Epsilon:0.01\n",
      "Running Gamma: 0.99, Epsilon:0.1\n",
      "Running Gamma: 0.99, Epsilon:0.2\n",
      "Running Gamma: 0.99, Epsilon:0.3\n"
     ]
    }
   ],
   "source": [
    "val_iters_fm = []\n",
    "\n",
    "for gamma in [0.1, 0.2, 0.3, 0.4, 0.5, 0.6, 0.7, 0.8, 0.9, 0.95, 0.99]:\n",
    "    for epsilon in [0.0001, 0.001, 0.01, 0.1, 0.2, 0.3]:\n",
    "        print('Running Gamma: {0}, Epsilon:{1}'.format(gamma, epsilon))\n",
    "        val_iter = mdp.ValueIteration(P_fm, R_fm, gamma=gamma, epsilon=epsilon, max_iter=1000, initial_value=0, skip_check=False)\n",
    "        val_iter.run()\n",
    "        val_iters_fm.append(val_iter)"
   ]
  },
  {
   "cell_type": "code",
   "execution_count": 193,
   "id": "a6dd436b",
   "metadata": {},
   "outputs": [],
   "source": [
    "fm_val_iter_df = get_val_iter_runs(val_iters_fm)\n",
    "fm_val_iter_df.head()\n",
    "fm_val_iter_df.to_csv('fm_val_iter_df.csv')"
   ]
  },
  {
   "cell_type": "code",
   "execution_count": 194,
   "id": "99568bff",
   "metadata": {},
   "outputs": [
    {
     "name": "stdout",
     "output_type": "stream",
     "text": [
      "Running Gamma: 0.1\n",
      "Running Gamma: 0.2\n",
      "Running Gamma: 0.3\n",
      "Running Gamma: 0.4\n",
      "Running Gamma: 0.5\n",
      "Running Gamma: 0.6\n",
      "Running Gamma: 0.7\n",
      "Running Gamma: 0.8\n",
      "Running Gamma: 0.9\n",
      "Running Gamma: 0.95\n",
      "Running Gamma: 0.99\n"
     ]
    }
   ],
   "source": [
    "pol_iters_fm = []\n",
    "\n",
    "for gamma in [0.1, 0.2, 0.3, 0.4, 0.5, 0.6, 0.7, 0.8, 0.9, 0.95, 0.99]:\n",
    "    print('Running Gamma: {0}'.format(gamma))\n",
    "    pol_iter = mdp.ValueIteration(P_fm, R_fm, gamma=gamma, skip_check=False)\n",
    "    pol_iter.run()\n",
    "    pol_iters_fm.append(pol_iter)"
   ]
  },
  {
   "cell_type": "code",
   "execution_count": 196,
   "id": "f5107c24",
   "metadata": {},
   "outputs": [],
   "source": [
    "fm_pol_iter_df = get_pol_iter_runs(pol_iters_fm)\n",
    "fm_pol_iter_df.to_csv('fm_pol_iter_df.csv')"
   ]
  },
  {
   "cell_type": "code",
   "execution_count": 199,
   "id": "e550effb",
   "metadata": {},
   "outputs": [
    {
     "name": "stdout",
     "output_type": "stream",
     "text": [
      "1/243\n",
      "2/243\n",
      "3/243\n",
      "4/243\n",
      "5/243\n",
      "6/243\n",
      "7/243\n",
      "8/243\n",
      "9/243\n",
      "10/243\n",
      "11/243\n",
      "12/243\n",
      "13/243\n",
      "14/243\n",
      "15/243\n",
      "16/243\n",
      "17/243\n",
      "18/243\n",
      "19/243\n",
      "20/243\n",
      "21/243\n",
      "22/243\n",
      "23/243\n",
      "24/243\n",
      "25/243\n",
      "26/243\n",
      "27/243\n",
      "28/243\n",
      "29/243\n",
      "30/243\n",
      "31/243\n",
      "32/243\n",
      "33/243\n",
      "34/243\n",
      "35/243\n",
      "36/243\n",
      "37/243\n",
      "38/243\n",
      "39/243\n",
      "40/243\n",
      "41/243\n",
      "42/243\n",
      "43/243\n",
      "44/243\n",
      "45/243\n",
      "46/243\n",
      "47/243\n",
      "48/243\n",
      "49/243\n",
      "50/243\n",
      "51/243\n",
      "52/243\n",
      "53/243\n",
      "54/243\n",
      "55/243\n",
      "56/243\n",
      "57/243\n",
      "58/243\n",
      "59/243\n",
      "60/243\n",
      "61/243\n",
      "62/243\n",
      "63/243\n",
      "64/243\n",
      "65/243\n",
      "66/243\n",
      "67/243\n",
      "68/243\n",
      "69/243\n",
      "70/243\n",
      "71/243\n",
      "72/243\n",
      "73/243\n",
      "74/243\n",
      "75/243\n",
      "76/243\n",
      "77/243\n",
      "78/243\n",
      "79/243\n",
      "80/243\n",
      "81/243\n",
      "82/243\n",
      "83/243\n",
      "84/243\n",
      "85/243\n",
      "86/243\n",
      "87/243\n",
      "88/243\n",
      "89/243\n",
      "90/243\n",
      "91/243\n",
      "92/243\n",
      "93/243\n",
      "94/243\n",
      "95/243\n",
      "96/243\n",
      "97/243\n",
      "98/243\n",
      "99/243\n",
      "100/243\n",
      "101/243\n",
      "102/243\n",
      "103/243\n",
      "104/243\n",
      "105/243\n",
      "106/243\n",
      "107/243\n",
      "108/243\n",
      "109/243\n",
      "110/243\n",
      "111/243\n",
      "112/243\n",
      "113/243\n",
      "114/243\n",
      "115/243\n",
      "116/243\n",
      "117/243\n",
      "118/243\n",
      "119/243\n",
      "120/243\n",
      "121/243\n",
      "122/243\n",
      "123/243\n",
      "124/243\n",
      "125/243\n",
      "126/243\n",
      "127/243\n",
      "128/243\n",
      "129/243\n",
      "130/243\n",
      "131/243\n",
      "132/243\n",
      "133/243\n",
      "134/243\n",
      "135/243\n",
      "136/243\n",
      "137/243\n",
      "138/243\n",
      "139/243\n",
      "140/243\n",
      "141/243\n",
      "142/243\n",
      "143/243\n",
      "144/243\n",
      "145/243\n",
      "146/243\n",
      "147/243\n",
      "148/243\n",
      "149/243\n",
      "150/243\n",
      "151/243\n",
      "152/243\n",
      "153/243\n",
      "154/243\n",
      "155/243\n",
      "156/243\n",
      "157/243\n",
      "158/243\n",
      "159/243\n",
      "160/243\n",
      "161/243\n",
      "162/243\n",
      "163/243\n",
      "164/243\n",
      "165/243\n",
      "166/243\n",
      "167/243\n",
      "168/243\n",
      "169/243\n",
      "170/243\n",
      "171/243\n",
      "172/243\n",
      "173/243\n",
      "174/243\n",
      "175/243\n",
      "176/243\n",
      "177/243\n",
      "178/243\n",
      "179/243\n",
      "180/243\n",
      "181/243\n",
      "182/243\n",
      "183/243\n",
      "184/243\n",
      "185/243\n",
      "186/243\n",
      "187/243\n",
      "188/243\n",
      "189/243\n",
      "190/243\n",
      "191/243\n",
      "192/243\n",
      "193/243\n",
      "194/243\n",
      "195/243\n",
      "196/243\n",
      "197/243\n",
      "198/243\n",
      "199/243\n",
      "200/243\n",
      "201/243\n",
      "202/243\n",
      "203/243\n",
      "204/243\n",
      "205/243\n",
      "206/243\n",
      "207/243\n",
      "208/243\n",
      "209/243\n",
      "210/243\n",
      "211/243\n",
      "212/243\n",
      "213/243\n",
      "214/243\n",
      "215/243\n",
      "216/243\n",
      "217/243\n",
      "218/243\n",
      "219/243\n",
      "220/243\n",
      "221/243\n",
      "222/243\n",
      "223/243\n",
      "224/243\n",
      "225/243\n",
      "226/243\n",
      "227/243\n",
      "228/243\n",
      "229/243\n",
      "230/243\n",
      "231/243\n",
      "232/243\n",
      "233/243\n",
      "234/243\n",
      "235/243\n",
      "236/243\n",
      "237/243\n",
      "238/243\n",
      "239/243\n",
      "240/243\n",
      "241/243\n",
      "242/243\n",
      "243/243\n"
     ]
    }
   ],
   "source": [
    "gammas = [0.9, 0.95, 0.99]\n",
    "alphas = [0.01, 0.1, 0.2]\n",
    "alpha_decays = [0.75, 0.9, 0.99]\n",
    "epsilons = [0.9, 0.99, 1]\n",
    "epsilon_decays= [0.75, 0.9, 0.99]\n",
    "\n",
    "n = len(gammas) * len(alphas) * len(alpha_decays)*len(epsilons)*len(epsilon_decays)\n",
    "q_solvers_fm = []\n",
    "\n",
    "for gamma in gammas:\n",
    "    for alpha in alphas:\n",
    "        for alpha_decay in alpha_decays:\n",
    "            for epsilon in epsilons:\n",
    "                for epsilon_decay in epsilon_decays:\n",
    "                    print('{0}/{1}'.format(len(q_solvers_fm)+1,n))\n",
    "                    q_solve = mdp.QLearning(P_fm, R_fm, gamma = gamma, alpha=alpha, alpha_decay=alpha_decay,\n",
    "                                            epsilon=epsilon, epsilon_decay=epsilon_decay,  skip_check=True)\n",
    "                    q_solve.run()\n",
    "                    q_solvers_fm.append(q_solve)\n",
    "                            "
   ]
  },
  {
   "cell_type": "code",
   "execution_count": 246,
   "id": "d9b3316a",
   "metadata": {},
   "outputs": [],
   "source": [
    "fm_q_df = get_q_runs(q_solvers_fm)\n",
    "fm_q_df.to_csv('fm_q_df.csv')"
   ]
  },
  {
   "cell_type": "code",
   "execution_count": 202,
   "id": "4152843b",
   "metadata": {},
   "outputs": [
    {
     "data": {
      "image/png": "[encoded data removed]",
      "text/plain": [
       "<Figure size 432x288 with 1 Axes>"
      ]
     },
     "metadata": {
      "needs_background": "light"
     },
     "output_type": "display_data"
    }
   ],
   "source": [
    "sns.lineplot(data = fm_val_iter_df, x ='Epsilon', y = 'Mean Error')\n",
    "plt.savefig('fm_val_iter_eps_error.png')"
   ]
  },
  {
   "cell_type": "code",
   "execution_count": 203,
   "id": "0e831d59",
   "metadata": {},
   "outputs": [
    {
     "data": {
      "image/png": "[encoded data removed]",
      "text/plain": [
       "<Figure size 432x288 with 1 Axes>"
      ]
     },
     "metadata": {
      "needs_background": "light"
     },
     "output_type": "display_data"
    }
   ],
   "source": [
    "sns.lineplot(data = fm_val_iter_df, x ='Gamma', y = 'Mean Error')\n",
    "plt.savefig('fm_val_iter_gamma_error.png')"
   ]
  },
  {
   "cell_type": "code",
   "execution_count": 376,
   "id": "1cfcbb66",
   "metadata": {},
   "outputs": [
    {
     "name": "stdout",
     "output_type": "stream",
     "text": [
      "F.M. Value Iteration Optimal Model Epsilon:0.0001, Gamma:0.9\n"
     ]
    }
   ],
   "source": [
    "fm_val_iter_eps = fm_val_iter_df[fm_val_iter_df['Mean Error'] == fm_val_iter_df['Mean Error'].min()]['Epsilon'].values[0]\n",
    "fm_val_iter_gamma = fm_val_iter_df[fm_val_iter_df['Mean Error'] == fm_val_iter_df['Mean Error'].min()]['Gamma'].values[0]\n",
    "fm_val_iter_policy = fm_val_iter_df[fm_val_iter_df['Mean Error'] == fm_val_iter_df['Mean Error'].min()]['Policy']\n",
    "fm_val_iter_mean_value = fm_val_iter_df[fm_val_iter_df['Mean Error'] == fm_val_iter_df['Mean Error'].min()]['Mean Value']\n",
    "fm_val_iter_max_value = fm_val_iter_df[fm_val_iter_df['Mean Error'] == fm_val_iter_df['Mean Error'].min()]['Max Value']\n",
    "fm_val_iter_time = fm_val_iter_df[fm_val_iter_df['Mean Error'] == fm_val_iter_df['Mean Error'].min()]['Run Time'].values[0]\n",
    "fm_val_iter_iters = fm_val_iter_df[fm_val_iter_df['Mean Error'] == fm_val_iter_df['Mean Error'].min()]['Number of Iterations'].values[0]\n",
    "print('F.M. Value Iteration Optimal Model Epsilon:{0}, Gamma:{1}'.format(fm_val_iter_eps, fm_val_iter_gamma))"
   ]
  },
  {
   "cell_type": "code",
   "execution_count": 303,
   "id": "d8945756",
   "metadata": {},
   "outputs": [
    {
     "data": {
      "image/png": "[encoded data removed]",
      "text/plain": [
       "<Figure size 576x216 with 2 Axes>"
      ]
     },
     "metadata": {
      "needs_background": "light"
     },
     "output_type": "display_data"
    }
   ],
   "source": [
    "fig = plt.figure(figsize=(8, 3))\n",
    "fig.tight_layout()\n",
    "\n",
    "plt.subplot(1, 2, 1)\n",
    "plt.plot(fm_val_iter_mean_value.values[0], label = 'Mean Value')\n",
    "plt.xlabel('Iteration')\n",
    "plt.ylabel('Value')\n",
    "plt.title('Mean Value')\n",
    "\n",
    "plt.subplot(1, 2, 2)\n",
    "plt.plot(fm_val_iter_max_value.values[0], label = 'Max Value')\n",
    "plt.xlabel('Iteration')\n",
    "\n",
    "plt.title('Max Value')\n",
    "\n",
    "plt.savefig('fm_val_iter_value.png')"
   ]
  },
  {
   "cell_type": "code",
   "execution_count": 206,
   "id": "807010b5",
   "metadata": {},
   "outputs": [
    {
     "data": {
      "image/png": "[encoded data removed]",
      "text/plain": [
       "<Figure size 432x288 with 1 Axes>"
      ]
     },
     "metadata": {
      "needs_background": "light"
     },
     "output_type": "display_data"
    }
   ],
   "source": [
    "plt.hist(fm_val_iter_policy)\n",
    "ax = plt.gca()\n",
    "ax.set_xticks([0,1])\n",
    "ax.set_xticklabels(['Wait', 'Cut'])\n",
    "plt.savefig('fm_val_iter_policy.png')"
   ]
  },
  {
   "cell_type": "code",
   "execution_count": 207,
   "id": "a35e0f97",
   "metadata": {},
   "outputs": [
    {
     "data": {
      "image/png": "[encoded data removed]",
      "text/plain": [
       "<Figure size 432x288 with 1 Axes>"
      ]
     },
     "metadata": {
      "needs_background": "light"
     },
     "output_type": "display_data"
    }
   ],
   "source": [
    "sns.lineplot(data = fm_pol_iter_df, x ='Gamma', y = 'Mean Error')\n",
    "plt.savefig('fm_pol_iter_gamma_error.png')"
   ]
  },
  {
   "cell_type": "code",
   "execution_count": 377,
   "id": "3c071434",
   "metadata": {},
   "outputs": [
    {
     "name": "stdout",
     "output_type": "stream",
     "text": [
      "F.M. Policy Iteration Optimal Model Gamma:0.9\n"
     ]
    }
   ],
   "source": [
    "fm_pol_iter_gamma = fm_pol_iter_df[fm_pol_iter_df['Mean Error'] == fm_pol_iter_df['Mean Error'].min()]['Gamma'].values[0]\n",
    "fm_pol_iter_policy = fm_pol_iter_df[fm_pol_iter_df['Mean Error'] == fm_pol_iter_df['Mean Error'].min()]['Policy']\n",
    "fm_pol_iter_mean_value = fm_pol_iter_df[fm_pol_iter_df['Mean Error'] == fm_pol_iter_df['Mean Error'].min()]['Mean Value']\n",
    "fm_pol_iter_max_value = fm_pol_iter_df[fm_pol_iter_df['Mean Error'] == fm_pol_iter_df['Mean Error'].min()]['Max Value']\n",
    "fm_pol_iter_time = fm_pol_iter_df[fm_pol_iter_df['Mean Error'] == fm_pol_iter_df['Mean Error'].min()]['Run Time'].values[0]\n",
    "fm_pol_iter_iters = fm_pol_iter_df[fm_pol_iter_df['Mean Error'] == fm_pol_iter_df['Mean Error'].min()]['Number of Iterations'].values[0]\n",
    "\n",
    "print('F.M. Policy Iteration Optimal Model Gamma:{0}'.format(fm_pol_iter_gamma))"
   ]
  },
  {
   "cell_type": "code",
   "execution_count": 304,
   "id": "155b54c0",
   "metadata": {},
   "outputs": [
    {
     "data": {
      "image/png": "[encoded data removed]",
      "text/plain": [
       "<Figure size 576x216 with 2 Axes>"
      ]
     },
     "metadata": {
      "needs_background": "light"
     },
     "output_type": "display_data"
    }
   ],
   "source": [
    "fig = plt.figure(figsize=(8, 3))\n",
    "fig.tight_layout()\n",
    "\n",
    "plt.subplot(1, 2, 1)\n",
    "plt.plot(fm_pol_iter_mean_value.values[0], label = 'Mean Value')\n",
    "plt.xlabel('Iteration')\n",
    "plt.ylabel('Value')\n",
    "plt.title('Mean Value')\n",
    "\n",
    "plt.subplot(1, 2, 2)\n",
    "plt.plot(fm_pol_iter_max_value.values[0], label = 'Max Value')\n",
    "plt.xlabel('Iteration')\n",
    "\n",
    "plt.title('Max Value')\n",
    "\n",
    "plt.savefig('fm_pol_iter_value.png')"
   ]
  },
  {
   "cell_type": "code",
   "execution_count": 210,
   "id": "5c744f8b",
   "metadata": {},
   "outputs": [
    {
     "data": {
      "image/png": "[encoded data removed]",
      "text/plain": [
       "<Figure size 432x288 with 1 Axes>"
      ]
     },
     "metadata": {
      "needs_background": "light"
     },
     "output_type": "display_data"
    }
   ],
   "source": [
    "plt.hist(fm_pol_iter_policy)\n",
    "ax = plt.gca()\n",
    "ax.set_xticks([0,1])\n",
    "ax.set_xticklabels(['Wait', 'Cut'])\n",
    "plt.savefig('fm_pol_iter_policy.png')"
   ]
  },
  {
   "cell_type": "code",
   "execution_count": 270,
   "id": "a3b92115",
   "metadata": {},
   "outputs": [
    {
     "data": {
      "image/png": "[encoded data removed]",
      "text/plain": [
       "<Figure size 432x288 with 1 Axes>"
      ]
     },
     "metadata": {
      "needs_background": "light"
     },
     "output_type": "display_data"
    }
   ],
   "source": [
    "sns.lineplot(data = fm_q_df, x ='Gamma', y = 'Mean Error')\n",
    "plt.savefig('fm_q_gamma_error.png')"
   ]
  },
  {
   "cell_type": "code",
   "execution_count": 271,
   "id": "7e2cc04c",
   "metadata": {},
   "outputs": [
    {
     "data": {
      "image/png": "[encoded data removed]",
      "text/plain": [
       "<Figure size 432x288 with 1 Axes>"
      ]
     },
     "metadata": {
      "needs_background": "light"
     },
     "output_type": "display_data"
    }
   ],
   "source": [
    "sns.lineplot(data = fm_q_df, x ='Epsilon', y = 'Mean Error')\n",
    "plt.savefig('fm_q_eps_error.png')"
   ]
  },
  {
   "cell_type": "code",
   "execution_count": 272,
   "id": "dde549e5",
   "metadata": {},
   "outputs": [
    {
     "data": {
      "image/png": "[encoded data removed]",
      "text/plain": [
       "<Figure size 432x288 with 1 Axes>"
      ]
     },
     "metadata": {
      "needs_background": "light"
     },
     "output_type": "display_data"
    }
   ],
   "source": [
    "sns.lineplot(data = fm_q_df, x ='Epsilon Decay', y = 'Mean Error')\n",
    "plt.savefig('fm_q_eps_decay_error.png')"
   ]
  },
  {
   "cell_type": "code",
   "execution_count": 273,
   "id": "e9e9459d",
   "metadata": {},
   "outputs": [
    {
     "data": {
      "image/png": "[encoded data removed]",
      "text/plain": [
       "<Figure size 432x288 with 1 Axes>"
      ]
     },
     "metadata": {
      "needs_background": "light"
     },
     "output_type": "display_data"
    }
   ],
   "source": [
    "sns.lineplot(data = fm_q_df, x ='Alpha', y = 'Mean Error')\n",
    "plt.savefig('fm_q_alpha_error.png')"
   ]
  },
  {
   "cell_type": "code",
   "execution_count": 274,
   "id": "7e1f198b",
   "metadata": {},
   "outputs": [
    {
     "data": {
      "image/png": "[encoded data removed]",
      "text/plain": [
       "<Figure size 432x288 with 1 Axes>"
      ]
     },
     "metadata": {
      "needs_background": "light"
     },
     "output_type": "display_data"
    }
   ],
   "source": [
    "sns.lineplot(data = fm_q_df, x ='Alpha Decay', y = 'Mean Error')\n",
    "plt.savefig('fm_q_alpha_decay_error.png')"
   ]
  },
  {
   "cell_type": "code",
   "execution_count": 385,
   "id": "900fc139",
   "metadata": {},
   "outputs": [
    {
     "name": "stdout",
     "output_type": "stream",
     "text": [
      "F.M. Q Learning Optimal Model Gamma:0.9, Epsilon:1.0, Eps. Decay:0.9, Alpha:0.2, Alpha Decay:0.99\n"
     ]
    }
   ],
   "source": [
    "fm_q_gamma = fm_q_df[fm_q_df['Mean Error'] == fm_q_df['Mean Error'].min()]['Gamma'].values[0]\n",
    "fm_q_eps = fm_q_df[fm_q_df['Mean Error'] == fm_q_df['Mean Error'].min()]['Epsilon'].values[0]\n",
    "fm_q_eps_decay = fm_q_df[fm_q_df['Mean Error'] == fm_q_df['Mean Error'].min()]['Epsilon Decay'].values[0]\n",
    "fm_q_alpha = fm_q_df[fm_q_df['Mean Error'] == fm_q_df['Mean Error'].min()]['Alpha'].values[0]\n",
    "fm_q_alpha_decay = fm_q_df[fm_q_df['Mean Error'] == fm_q_df['Mean Error'].min()]['Alpha Decay'].values[0]\n",
    "\n",
    "fm_q_policy = fm_q_df[fm_q_df['Mean Error'] == fm_q_df['Mean Error'].min()]['Policy']\n",
    "fm_q_mean_value = fm_q_df[fm_q_df['Mean Error'] == fm_q_df['Mean Error'].min()]['Mean Value']\n",
    "fm_q_max_value = fm_q_df[fm_q_df['Mean Error'] == fm_q_df['Mean Error'].min()]['Max Value']\n",
    "\n",
    "fm_q_time = fm_q_df[fm_q_df['Mean Error'] == fm_q_df['Mean Error'].min()]['Run Time'].values[0]\n",
    "fm_q_iters = len(fm_q_max_value.values[0])\n",
    "\n",
    "print('F.M. Q Learning Optimal Model Gamma:{0}, Epsilon:{1}, Eps. Decay:{2}, Alpha:{3}, Alpha Decay:{4}'.format(fm_q_gamma, fm_q_eps, fm_q_eps_decay, fm_q_alpha, fm_q_alpha_decay))"
   ]
  },
  {
   "cell_type": "code",
   "execution_count": 384,
   "id": "2fb6fc5d",
   "metadata": {},
   "outputs": [
    {
     "data": {
      "text/plain": [
       "10000"
      ]
     },
     "execution_count": 384,
     "metadata": {},
     "output_type": "execute_result"
    }
   ],
   "source": []
  },
  {
   "cell_type": "code",
   "execution_count": 323,
   "id": "f7c14c60",
   "metadata": {},
   "outputs": [
    {
     "data": {
      "image/png": "[encoded data removed]",
      "text/plain": [
       "<Figure size 432x288 with 1 Axes>"
      ]
     },
     "metadata": {
      "needs_background": "light"
     },
     "output_type": "display_data"
    }
   ],
   "source": [
    "plt.hist(fm_q_policy)\n",
    "ax = plt.gca()\n",
    "ax.set_xticks([0,1])\n",
    "ax.set_xticklabels(['Wait', 'Cut'])\n",
    "plt.savefig('fm_q_policy_hist.png')"
   ]
  },
  {
   "cell_type": "code",
   "execution_count": 305,
   "id": "fe4f6990",
   "metadata": {},
   "outputs": [
    {
     "data": {
      "image/png": "[encoded data removed]",
      "text/plain": [
       "<Figure size 576x216 with 2 Axes>"
      ]
     },
     "metadata": {
      "needs_background": "light"
     },
     "output_type": "display_data"
    }
   ],
   "source": [
    "fig = plt.figure(figsize=(8, 3))\n",
    "fig.tight_layout()\n",
    "\n",
    "plt.subplot(1, 2, 1)\n",
    "plt.plot(fm_q_mean_value.values[0], label = 'Mean Value')\n",
    "plt.xlabel('Iteration')\n",
    "plt.ylabel('Value')\n",
    "plt.title('Mean Value')\n",
    "\n",
    "plt.subplot(1, 2, 2)\n",
    "plt.plot(fm_q_max_value.values[0], label = 'Max Value')\n",
    "plt.xlabel('Iteration')\n",
    "\n",
    "plt.title('Max Value')\n",
    "\n",
    "plt.savefig('fm_q_value.png')"
   ]
  },
  {
   "cell_type": "code",
   "execution_count": 363,
   "id": "c3a1f9b2",
   "metadata": {},
   "outputs": [
    {
     "data": {
      "image/png": "[encoded data removed]",
      "text/plain": [
       "<Figure size 1440x1080 with 3 Axes>"
      ]
     },
     "metadata": {
      "needs_background": "light"
     },
     "output_type": "display_data"
    }
   ],
   "source": [
    "fig = plt.figure(figsize=(20, 15))\n",
    "fig.tight_layout()\n",
    "\n",
    "plt.subplot(3, 1, 1)\n",
    "y = list(fm_val_iter_policy.values[0])\n",
    "n = len(y)\n",
    "x = list(range(n))\n",
    "plt.barh(y, [1]*len(x), left=x, color = 'blue', edgecolor = 'blue', align='center', height=1)\n",
    "plt.yticks([0,1], ['Wait', 'Cut'], fontsize= 20)\n",
    "plt.xticks([])\n",
    "\n",
    "plt.subplot(3, 1, 2)\n",
    "y = list(fm_pol_iter_policy.values[0])\n",
    "n = len(y)\n",
    "x = list(range(n))\n",
    "plt.barh(y, [1]*len(x), left=x, color = 'green', edgecolor = 'green', align='center', height=1)\n",
    "plt.yticks([0,1], ['Wait', 'Cut'], fontsize= 20)\n",
    "plt.xticks([])\n",
    "\n",
    "plt.subplot(3, 1, 3)\n",
    "y = list(fm_q_policy.values[0])\n",
    "n = len(y)\n",
    "x = list(range(n))\n",
    "plt.barh(y, [1]*len(x), left=x, color = 'red', edgecolor = 'red', align='center', height=1)\n",
    "plt.yticks([0,1], ['Wait', 'Cut'], fontsize= 20)\n",
    "plt.xticks([])\n",
    "\n",
    "plt.savefig('fm_opt_policy_actions.png')"
   ]
  },
  {
   "cell_type": "code",
   "execution_count": 386,
   "id": "f2ddd2d0",
   "metadata": {},
   "outputs": [
    {
     "name": "stdout",
     "output_type": "stream",
     "text": [
      "FM Value Iteration. Run Time:0.6209080219268799 for 95 iterations\n",
      "FM Policy Iteration. Run Time:0.2543613910675049 for 54 iterations\n",
      "FM Q Learning. Run Time:1.8810884952545166 for 10000 iterations\n"
     ]
    }
   ],
   "source": [
    "print('FM Value Iteration. Run Time:{0} for {1} iterations'.format(fm_val_iter_time, fm_val_iter_iters))\n",
    "print('FM Policy Iteration. Run Time:{0} for {1} iterations'.format(fm_pol_iter_time, fm_pol_iter_iters))\n",
    "print('FM Q Learning. Run Time:{0} for {1} iterations'.format(fm_q_time, fm_q_iters))"
   ]
  }
 ],
 "metadata": {
  "kernelspec": {
   "display_name": "Python 3",
   "language": "python",
   "name": "python3"
  },
  "language_info": {
   "codemirror_mode": {
    "name": "ipython",
    "version": 3
   },
   "file_extension": ".py",
   "mimetype": "text/x-python",
   "name": "python",
   "nbconvert_exporter": "python",
   "pygments_lexer": "ipython3",
   "version": "3.8.8"
  }
 },
 "nbformat": 4,
 "nbformat_minor": 5
}
